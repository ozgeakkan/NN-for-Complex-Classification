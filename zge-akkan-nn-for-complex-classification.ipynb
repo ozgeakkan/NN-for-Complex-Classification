{
 "cells": [
  {
   "cell_type": "code",
   "execution_count": 1,
   "id": "75848427",
   "metadata": {
    "_cell_guid": "b1076dfc-b9ad-4769-8c92-a6c4dae69d19",
    "_uuid": "8f2839f25d086af736a60e9eeb907d3b93b6e0e5",
    "execution": {
     "iopub.execute_input": "2024-12-29T20:14:52.408022Z",
     "iopub.status.busy": "2024-12-29T20:14:52.407574Z",
     "iopub.status.idle": "2024-12-29T20:14:52.788374Z",
     "shell.execute_reply": "2024-12-29T20:14:52.787296Z"
    },
    "papermill": {
     "duration": 0.392039,
     "end_time": "2024-12-29T20:14:52.790188",
     "exception": false,
     "start_time": "2024-12-29T20:14:52.398149",
     "status": "completed"
    },
    "tags": []
   },
   "outputs": [
    {
     "name": "stdout",
     "output_type": "stream",
     "text": [
      "/kaggle/input/math482-2024-2025-1-hw-04/sample_submission.csv\n",
      "/kaggle/input/math482-2024-2025-1-hw-04/train.csv\n",
      "/kaggle/input/math482-2024-2025-1-hw-04/test.csv\n"
     ]
    }
   ],
   "source": [
    "# This Python 3 environment comes with many helpful analytics libraries installed\n",
    "# It is defined by the kaggle/python Docker image: https://github.com/kaggle/docker-python\n",
    "# For example, here's several helpful packages to load\n",
    "\n",
    "import numpy as np # linear algebra\n",
    "import pandas as pd # data processing, CSV file I/O (e.g. pd.read_csv)\n",
    "\n",
    "# Input data files are available in the read-only \"../input/\" directory\n",
    "# For example, running this (by clicking run or pressing Shift+Enter) will list all files under the input directory\n",
    "\n",
    "import os\n",
    "for dirname, _, filenames in os.walk('/kaggle/input'):\n",
    "    for filename in filenames:\n",
    "        print(os.path.join(dirname, filename))\n",
    "\n",
    "# You can write up to 20GB to the current directory (/kaggle/working/) that gets preserved as output when you create a version using \"Save & Run All\" \n",
    "# You can also write temporary files to /kaggle/temp/, but they won't be saved outside of the current session"
   ]
  },
  {
   "cell_type": "markdown",
   "id": "5e5cf546",
   "metadata": {
    "papermill": {
     "duration": 0.007354,
     "end_time": "2024-12-29T20:14:52.805660",
     "exception": false,
     "start_time": "2024-12-29T20:14:52.798306",
     "status": "completed"
    },
    "tags": []
   },
   "source": [
    "# Summary\n",
    "* In this problem, the relationship between features and target class is much more complex\n",
    "* need to use deep learning methods\n",
    "* feature engineering in this assignment\n",
    "* the most important thing: *improve your model results by experimenting with hyperparameters.*\n",
    "* dataset includes 21 feature columns (named \"feature_01\", \"feature_02\", …) and a target column (\"target\").\n",
    "* The training dataset contains 22,500 rows, while the testing dataset has 7,500 rows.\n",
    "* expected to build a neural network\n",
    "* work on preparing your data and fine-tuning the hyperparameters of your model to get a good score.\n",
    "* Experiment with different activation functions to see which one helps your model learn best.\n",
    "* try out different optimizers like SGD, Adam, or RMSprop to find one that helps your model improve quickly and efficiently.\n",
    "* To make sure your model does not overfit, you can use techniques like dropout or regularization.\n",
    "* Changing the learning rate and momentum might also improve training.\n",
    "* some preprocessing before building your models.\n",
    "* there are some irrelevant (randomly generated and unrelated to the target value) columns.\n",
    "* first task is to identify these columns - think about and research methods for detecting irrelevant and redundant features.\n",
    "* Second, you need to convert your categorical variables to numerical ones, keeping in mind that some categorical features are inherently ordered, while others are not.\n",
    "* apply some sort of encoding before using unordered categorical variables.\n",
    "* Also, some columns contain null values, need to decide how to handle them before training\n",
    "* check if there are any outliers and deal with this problem as well\n",
    "* evaluation will consider both model accuracy and your approach to data analysis, interpretation, and code clarity\n",
    "* Submissions will be evaluated using F1. Note that the average parameter is taken as 'micro'\n",
    "* Compute the F1 y_pred, also known as balanced F-score or F-measure.\n",
    "* The F1 score can be interpreted as a harmonic mean of the precision and\n",
    "recall, where an F1 score reaches its best value at 1 and worst score at 0.\n"
   ]
  },
  {
   "cell_type": "markdown",
   "id": "4849996a",
   "metadata": {
    "papermill": {
     "duration": 0.007042,
     "end_time": "2024-12-29T20:14:52.820296",
     "exception": false,
     "start_time": "2024-12-29T20:14:52.813254",
     "status": "completed"
    },
    "tags": []
   },
   "source": [
    "# Data Exploration\n"
   ]
  },
  {
   "cell_type": "code",
   "execution_count": 2,
   "id": "0ac2b2fa",
   "metadata": {
    "execution": {
     "iopub.execute_input": "2024-12-29T20:14:52.836623Z",
     "iopub.status.busy": "2024-12-29T20:14:52.836118Z",
     "iopub.status.idle": "2024-12-29T20:14:55.247501Z",
     "shell.execute_reply": "2024-12-29T20:14:55.246181Z"
    },
    "papermill": {
     "duration": 2.421929,
     "end_time": "2024-12-29T20:14:55.249745",
     "exception": false,
     "start_time": "2024-12-29T20:14:52.827816",
     "status": "completed"
    },
    "tags": []
   },
   "outputs": [
    {
     "name": "stdout",
     "output_type": "stream",
     "text": [
      "Training Data Info:\n",
      "<class 'pandas.core.frame.DataFrame'>\n",
      "RangeIndex: 22500 entries, 0 to 22499\n",
      "Data columns (total 23 columns):\n",
      " #   Column      Non-Null Count  Dtype  \n",
      "---  ------      --------------  -----  \n",
      " 0   id          22500 non-null  int64  \n",
      " 1   feature_01  20096 non-null  float64\n",
      " 2   feature_02  19612 non-null  object \n",
      " 3   feature_03  20033 non-null  object \n",
      " 4   feature_04  20141 non-null  float64\n",
      " 5   feature_05  20455 non-null  float64\n",
      " 6   feature_06  19557 non-null  float64\n",
      " 7   feature_07  19745 non-null  float64\n",
      " 8   feature_08  20973 non-null  float64\n",
      " 9   feature_09  19882 non-null  object \n",
      " 10  feature_10  20345 non-null  object \n",
      " 11  feature_11  19698 non-null  float64\n",
      " 12  feature_12  19869 non-null  float64\n",
      " 13  feature_13  19417 non-null  float64\n",
      " 14  feature_14  21257 non-null  object \n",
      " 15  feature_15  20853 non-null  float64\n",
      " 16  feature_16  20289 non-null  float64\n",
      " 17  feature_17  19406 non-null  float64\n",
      " 18  feature_18  21219 non-null  float64\n",
      " 19  feature_19  21088 non-null  object \n",
      " 20  feature_20  21129 non-null  object \n",
      " 21  feature_21  20557 non-null  float64\n",
      " 22  target      22500 non-null  int64  \n",
      "dtypes: float64(14), int64(2), object(7)\n",
      "memory usage: 3.9+ MB\n",
      "None\n",
      "\n",
      "Testing Data Info:\n",
      "<class 'pandas.core.frame.DataFrame'>\n",
      "RangeIndex: 7500 entries, 0 to 7499\n",
      "Data columns (total 22 columns):\n",
      " #   Column      Non-Null Count  Dtype  \n",
      "---  ------      --------------  -----  \n",
      " 0   id          7500 non-null   int64  \n",
      " 1   feature_01  6737 non-null   float64\n",
      " 2   feature_02  6540 non-null   object \n",
      " 3   feature_03  6660 non-null   object \n",
      " 4   feature_04  6700 non-null   float64\n",
      " 5   feature_05  6815 non-null   float64\n",
      " 6   feature_06  6481 non-null   float64\n",
      " 7   feature_07  6582 non-null   float64\n",
      " 8   feature_08  6972 non-null   float64\n",
      " 9   feature_09  6642 non-null   object \n",
      " 10  feature_10  6738 non-null   object \n",
      " 11  feature_11  6594 non-null   float64\n",
      " 12  feature_12  6618 non-null   float64\n",
      " 13  feature_13  6459 non-null   float64\n",
      " 14  feature_14  7052 non-null   object \n",
      " 15  feature_15  6989 non-null   float64\n",
      " 16  feature_16  6728 non-null   float64\n",
      " 17  feature_17  6465 non-null   float64\n",
      " 18  feature_18  7061 non-null   float64\n",
      " 19  feature_19  7011 non-null   object \n",
      " 20  feature_20  7058 non-null   object \n",
      " 21  feature_21  6818 non-null   float64\n",
      "dtypes: float64(14), int64(1), object(7)\n",
      "memory usage: 1.3+ MB\n",
      "None\n",
      "\n",
      "Training Data Preview:\n",
      "   id  feature_01 feature_02 feature_03  feature_04  feature_05  feature_06  \\\n",
      "0   1        0.94         D2         B1         NaN        1.88        0.40   \n",
      "1   2        6.02         D3         B1         1.0        1.12        0.33   \n",
      "2   3        2.63         D1         B6         2.0        1.60        0.35   \n",
      "3   4        1.83        NaN         B4         1.0        0.98        0.44   \n",
      "4   5        0.34         D3         B6         0.0        0.93        0.53   \n",
      "\n",
      "   feature_07  feature_08 feature_09  ... feature_13  feature_14  feature_15  \\\n",
      "0         NaN        1.33        NaN  ...      -3.64           r        1.27   \n",
      "1        0.25        1.96         xy  ...      -3.02           s        0.86   \n",
      "2        0.43        2.42         xy  ...      -3.22           q        0.19   \n",
      "3        0.15        2.09         xy  ...      -2.85           s        1.41   \n",
      "4        0.26        4.30         xy  ...      -6.11           u        0.57   \n",
      "\n",
      "   feature_16 feature_17  feature_18  feature_19  feature_20  feature_21  \\\n",
      "0       -0.87      -1.20        0.29          A2          ad        0.34   \n",
      "1        0.11     -14.86        0.66          A2          ae        0.31   \n",
      "2       -6.30     -64.38        0.57          A5          ac        0.18   \n",
      "3       -3.09        NaN        0.56          A1          aa        1.46   \n",
      "4       -3.28      -1.01        0.38          A3          ad        1.79   \n",
      "\n",
      "  target  \n",
      "0      1  \n",
      "1      5  \n",
      "2      4  \n",
      "3      3  \n",
      "4      5  \n",
      "\n",
      "[5 rows x 23 columns]\n",
      "\n",
      "Testing Data Preview:\n",
      "      id  feature_01 feature_02 feature_03  feature_04  feature_05  \\\n",
      "0  22501         NaN         D4        NaN         2.0        0.15   \n",
      "1  22502        0.23         D1         B3         3.0        1.90   \n",
      "2  22503        0.57         D1         B5         0.0        2.19   \n",
      "3  22504        4.28        NaN         B5         NaN        0.94   \n",
      "4  22505        0.90         D1         B5         1.0        1.42   \n",
      "\n",
      "   feature_06  feature_07  feature_08 feature_09  ... feature_12  feature_13  \\\n",
      "0        0.36        0.17        1.50         xy  ...      -1.81       -4.31   \n",
      "1        0.64         NaN        1.45         xy  ...      -1.16       -3.55   \n",
      "2         NaN         NaN        0.08         yy  ...    -114.94       -2.95   \n",
      "3         NaN        0.27        1.57        NaN  ...      -0.34         NaN   \n",
      "4        0.61        0.45        0.25         xy  ...      -0.10       -0.44   \n",
      "\n",
      "   feature_14  feature_15 feature_16  feature_17  feature_18  feature_19  \\\n",
      "0           p         NaN      -3.12       -1.91       19.85          A2   \n",
      "1           s        3.12        NaN        0.61        0.10          A2   \n",
      "2           r        0.72       0.24        0.15        0.29          A2   \n",
      "3         NaN        2.39      -5.27       -1.25        0.30          A1   \n",
      "4           r        5.02      -3.27       -1.46        0.26          A4   \n",
      "\n",
      "   feature_20 feature_21  \n",
      "0          aa        NaN  \n",
      "1          ac       0.30  \n",
      "2          ad       4.06  \n",
      "3          ae       1.62  \n",
      "4         NaN        NaN  \n",
      "\n",
      "[5 rows x 22 columns]\n",
      "\n",
      "Null Values in Training Data:\n",
      "id               0\n",
      "feature_01    2404\n",
      "feature_02    2888\n",
      "feature_03    2467\n",
      "feature_04    2359\n",
      "feature_05    2045\n",
      "feature_06    2943\n",
      "feature_07    2755\n",
      "feature_08    1527\n",
      "feature_09    2618\n",
      "feature_10    2155\n",
      "feature_11    2802\n",
      "feature_12    2631\n",
      "feature_13    3083\n",
      "feature_14    1243\n",
      "feature_15    1647\n",
      "feature_16    2211\n",
      "feature_17    3094\n",
      "feature_18    1281\n",
      "feature_19    1412\n",
      "feature_20    1371\n",
      "feature_21    1943\n",
      "target           0\n",
      "dtype: int64\n",
      "\n",
      "Null Values in Testing Data:\n",
      "id               0\n",
      "feature_01     763\n",
      "feature_02     960\n",
      "feature_03     840\n",
      "feature_04     800\n",
      "feature_05     685\n",
      "feature_06    1019\n",
      "feature_07     918\n",
      "feature_08     528\n",
      "feature_09     858\n",
      "feature_10     762\n",
      "feature_11     906\n",
      "feature_12     882\n",
      "feature_13    1041\n",
      "feature_14     448\n",
      "feature_15     511\n",
      "feature_16     772\n",
      "feature_17    1035\n",
      "feature_18     439\n",
      "feature_19     489\n",
      "feature_20     442\n",
      "feature_21     682\n",
      "dtype: int64\n",
      "\n",
      "Summary Statistics of Training Data:\n",
      "                 id    feature_01    feature_04    feature_05    feature_06  \\\n",
      "count  22500.000000  20096.000000  20141.000000  20455.000000  19557.000000   \n",
      "mean   11250.500000      6.239823      7.113022      4.352539      1.162647   \n",
      "std     6495.334864     32.572165     33.501994     21.647838      4.724951   \n",
      "min        1.000000      0.000000      0.000000      0.020000      0.010000   \n",
      "25%     5625.750000      0.610000      0.000000      0.520000      0.280000   \n",
      "50%    11250.500000      1.460000      1.000000      1.040000      0.380000   \n",
      "75%    16875.250000      3.002500      2.000000      2.160000      0.490000   \n",
      "max    22500.000000    786.250000    465.410000    659.360000     54.550000   \n",
      "\n",
      "        feature_07    feature_08    feature_11    feature_12    feature_13  \\\n",
      "count  19745.00000  20973.000000  19698.000000  19869.000000  19417.000000   \n",
      "mean       3.42410     20.395801     -4.883125     -5.699943    -22.232416   \n",
      "std       10.17402     85.158896     22.815663     22.032648     80.880036   \n",
      "min        0.03000      0.000000   -295.390000   -222.630000   -548.960000   \n",
      "25%        0.29000      0.660000     -1.740000     -1.820000     -5.170000   \n",
      "50%        0.39000      1.650000     -0.990000     -1.030000     -3.310000   \n",
      "75%        0.52000      3.540000     -0.270000     -0.300000     -1.520000   \n",
      "max       68.19000   1837.720000    141.210000    143.410000     24.490000   \n",
      "\n",
      "         feature_15    feature_16    feature_17    feature_18    feature_21  \\\n",
      "count  20853.000000  20289.000000  19406.000000  21219.000000  20557.000000   \n",
      "mean       9.371157    -14.442898     -7.817956      2.188494     16.879567   \n",
      "std       43.593488     55.097175     33.486274      7.409390     84.358346   \n",
      "min        0.000000   -417.980000   -373.920000      0.030000      0.020000   \n",
      "25%        0.620000     -5.080000     -1.800000      0.280000      0.550000   \n",
      "50%        1.490000     -3.300000     -1.040000      0.390000      1.130000   \n",
      "75%        3.090000     -1.460000     -0.300000      0.510000      2.530000   \n",
      "max      939.450000     18.620000    192.320000     64.880000   2783.070000   \n",
      "\n",
      "             target  \n",
      "count  22500.000000  \n",
      "mean       2.740044  \n",
      "std        1.717847  \n",
      "min        0.000000  \n",
      "25%        1.000000  \n",
      "50%        3.000000  \n",
      "75%        5.000000  \n",
      "max        5.000000  \n"
     ]
    }
   ],
   "source": [
    "import pandas as pd\n",
    "import numpy as np\n",
    "import matplotlib.pyplot as plt\n",
    "import seaborn as sns\n",
    "from sklearn.model_selection import train_test_split\n",
    "from sklearn.metrics import f1_score, confusion_matrix\n",
    "import optuna\n",
    "from sklearn.preprocessing import StandardScaler, OrdinalEncoder\n",
    "from sklearn.impute import SimpleImputer\n",
    "\n",
    "\n",
    "# load the data\n",
    "\n",
    "train_df = pd.read_csv('/kaggle/input/math482-2024-2025-1-hw-04/train.csv')\n",
    "test_df = pd.read_csv('/kaggle/input/math482-2024-2025-1-hw-04/test.csv')\n",
    "\n",
    "\n",
    "# data exploration\n",
    "\n",
    "# Display basic information about the datasets\n",
    "print(\"Training Data Info:\")\n",
    "print(train_df.info())\n",
    "print(\"\\nTesting Data Info:\")\n",
    "print(test_df.info())\n",
    "\n",
    "# Display the first few rows of the datasets\n",
    "print(\"\\nTraining Data Preview:\")\n",
    "print(train_df.head())\n",
    "\n",
    "print(\"\\nTesting Data Preview:\")\n",
    "print(test_df.head())\n",
    "\n",
    "# Check for null values\n",
    "print(\"\\nNull Values in Training Data:\")\n",
    "print(train_df.isnull().sum())\n",
    "\n",
    "print(\"\\nNull Values in Testing Data:\")\n",
    "print(test_df.isnull().sum())\n",
    "\n",
    "# Summary statistics\n",
    "print(\"\\nSummary Statistics of Training Data:\")\n",
    "print(train_df.describe())\n"
   ]
  },
  {
   "cell_type": "markdown",
   "id": "bf711345",
   "metadata": {
    "papermill": {
     "duration": 0.007248,
     "end_time": "2024-12-29T20:14:55.264680",
     "exception": false,
     "start_time": "2024-12-29T20:14:55.257432",
     "status": "completed"
    },
    "tags": []
   },
   "source": [
    "**Initial Observation:**\n",
    "* Missing values are consistent across both testing and training datasets\n",
    "* In the training dataset, target values seem to range between 0 and 5, indicating a multi-class classification problem. Some numeric features (such as feature15, feature16) have very high ranges, suggesting potential scaling issues.\n",
    "* In the testing dataset, some features have extreme values (such as feature12 with -114.94 and 143.41), suggesting potential outliers.\n",
    "\n",
    "**What to do?**\n",
    "* First thing to do is to handle missing values."
   ]
  },
  {
   "cell_type": "markdown",
   "id": "813317f8",
   "metadata": {
    "papermill": {
     "duration": 0.007283,
     "end_time": "2024-12-29T20:14:55.279381",
     "exception": false,
     "start_time": "2024-12-29T20:14:55.272098",
     "status": "completed"
    },
    "tags": []
   },
   "source": [
    "# Handling Missing Values \n"
   ]
  },
  {
   "cell_type": "code",
   "execution_count": 3,
   "id": "6ed21e87",
   "metadata": {
    "execution": {
     "iopub.execute_input": "2024-12-29T20:14:55.295449Z",
     "iopub.status.busy": "2024-12-29T20:14:55.295120Z",
     "iopub.status.idle": "2024-12-29T20:14:55.399243Z",
     "shell.execute_reply": "2024-12-29T20:14:55.398386Z"
    },
    "papermill": {
     "duration": 0.114255,
     "end_time": "2024-12-29T20:14:55.401126",
     "exception": false,
     "start_time": "2024-12-29T20:14:55.286871",
     "status": "completed"
    },
    "tags": []
   },
   "outputs": [],
   "source": [
    "# Handling Missing Values\n",
    "\n",
    "# Imputation for missing numerical features using the median\n",
    "numeric_features = train_df.select_dtypes(include=['float64', 'int64']).columns.drop('target')  # Exclude target\n",
    "imputer = SimpleImputer(strategy='median')\n",
    "train_df[numeric_features] = imputer.fit_transform(train_df[numeric_features])\n",
    "test_df[numeric_features] = imputer.transform(test_df[numeric_features])\n",
    "\n",
    "# Imputation for missing categorical features using the mode\n",
    "categorical_features = train_df.select_dtypes(include=['object']).columns\n",
    "cat_imputer = SimpleImputer(strategy='most_frequent')\n",
    "train_df[categorical_features] = cat_imputer.fit_transform(train_df[categorical_features])\n",
    "test_df[categorical_features] = cat_imputer.transform(test_df[categorical_features])\n"
   ]
  },
  {
   "cell_type": "markdown",
   "id": "40a6a16a",
   "metadata": {
    "papermill": {
     "duration": 0.007345,
     "end_time": "2024-12-29T20:14:55.416371",
     "exception": false,
     "start_time": "2024-12-29T20:14:55.409026",
     "status": "completed"
    },
    "tags": []
   },
   "source": [
    "* The median is chosen as it is robust to outliers, ensuring that extreme values in the data do not disproportionately affect the imputed values.\n",
    "* The mode (most frequent value) is used for categorical data because it is straightforward and effectively preserves the existing distribution of categories.\n",
    "* Next thing to do: Feature Engineering"
   ]
  },
  {
   "cell_type": "markdown",
   "id": "cd5f1ffb",
   "metadata": {
    "papermill": {
     "duration": 0.007235,
     "end_time": "2024-12-29T20:14:55.431288",
     "exception": false,
     "start_time": "2024-12-29T20:14:55.424053",
     "status": "completed"
    },
    "tags": []
   },
   "source": [
    "# Feature Engineering \n"
   ]
  },
  {
   "cell_type": "code",
   "execution_count": 4,
   "id": "08f8eb27",
   "metadata": {
    "execution": {
     "iopub.execute_input": "2024-12-29T20:14:55.447887Z",
     "iopub.status.busy": "2024-12-29T20:14:55.447534Z",
     "iopub.status.idle": "2024-12-29T20:14:55.479089Z",
     "shell.execute_reply": "2024-12-29T20:14:55.477871Z"
    },
    "papermill": {
     "duration": 0.041779,
     "end_time": "2024-12-29T20:14:55.480917",
     "exception": false,
     "start_time": "2024-12-29T20:14:55.439138",
     "status": "completed"
    },
    "tags": []
   },
   "outputs": [
    {
     "name": "stdout",
     "output_type": "stream",
     "text": [
      "Ordinal features: ['feature_02', 'feature_03', 'feature_10', 'feature_19']\n",
      "Nominal features: ['feature_09', 'feature_14', 'feature_20']\n"
     ]
    }
   ],
   "source": [
    "#feature engineering\n",
    "ordinal_features = []\n",
    "nominal_features = []\n",
    "\n",
    "for feature in categorical_features:\n",
    "    \n",
    "    non_zero_values = train_df[feature].dropna().unique()\n",
    "    has_number = any(any(char.isdigit() for char in str(value)) for value in non_zero_values)\n",
    "\n",
    "    unique_values = train_df[feature].unique()\n",
    "    \n",
    "    # Check if all unique values match the ordinal pattern (uppercase letter and number)\n",
    "    if has_number:\n",
    "        ordinal_features.append(feature)\n",
    "    else:\n",
    "        nominal_features.append(feature)\n",
    "\n",
    "# Print the identified ordinal and nominal features\n",
    "print(\"Ordinal features:\", ordinal_features)\n",
    "print(\"Nominal features:\", nominal_features)"
   ]
  },
  {
   "cell_type": "code",
   "execution_count": 5,
   "id": "43e320e2",
   "metadata": {
    "execution": {
     "iopub.execute_input": "2024-12-29T20:14:55.497829Z",
     "iopub.status.busy": "2024-12-29T20:14:55.497419Z",
     "iopub.status.idle": "2024-12-29T20:14:55.554369Z",
     "shell.execute_reply": "2024-12-29T20:14:55.553346Z"
    },
    "papermill": {
     "duration": 0.068601,
     "end_time": "2024-12-29T20:14:55.557499",
     "exception": false,
     "start_time": "2024-12-29T20:14:55.488898",
     "status": "completed"
    },
    "tags": []
   },
   "outputs": [],
   "source": [
    "ordinal_encoder = OrdinalEncoder()\n",
    "train_df[ordinal_features] = ordinal_encoder.fit_transform(train_df[ordinal_features])\n",
    "test_df[ordinal_features] = ordinal_encoder.transform(test_df[ordinal_features])\n",
    "\n",
    "train_df = pd.get_dummies(train_df, columns=nominal_features, drop_first=True)\n",
    "test_df = pd.get_dummies(test_df, columns=nominal_features, drop_first=True)"
   ]
  },
  {
   "cell_type": "code",
   "execution_count": 6,
   "id": "87c8f692",
   "metadata": {
    "execution": {
     "iopub.execute_input": "2024-12-29T20:14:55.575825Z",
     "iopub.status.busy": "2024-12-29T20:14:55.575407Z",
     "iopub.status.idle": "2024-12-29T20:14:55.586418Z",
     "shell.execute_reply": "2024-12-29T20:14:55.585611Z"
    },
    "papermill": {
     "duration": 0.021773,
     "end_time": "2024-12-29T20:14:55.588190",
     "exception": false,
     "start_time": "2024-12-29T20:14:55.566417",
     "status": "completed"
    },
    "tags": []
   },
   "outputs": [],
   "source": [
    "train_df, test_df = train_df.align(test_df, join='left', axis=1)\n",
    "test_df.fillna(0, inplace=True)  # Fill any new columns with 0 in the test set\n",
    "assert train_df.columns.equals(test_df.columns), \"Mismatch between train and test columns after alignment\"\n"
   ]
  },
  {
   "cell_type": "markdown",
   "id": "1ee5c3f5",
   "metadata": {
    "papermill": {
     "duration": 0.007328,
     "end_time": "2024-12-29T20:14:55.603454",
     "exception": false,
     "start_time": "2024-12-29T20:14:55.596126",
     "status": "completed"
    },
    "tags": []
   },
   "source": [
    "*  Feature engineering for categorical features by dividing them into **ordinal** and **nominal** features and applying appropriate preprocessing\n",
    "* Ordinal features: Encoded using OrdinalEncoder, which assigns numeric values based on the inherent order in the data\n",
    "* Nominal features: Encoded using one-hot encoding via pd.get_dummies\n",
    "* The **get_dummies()** function converts nominal variables into dummy/indicator variables (known as one-hot encoding). Each unique category in the original data is converted into a separate column, and the values are represented as True (for presence) or False (for absence).\n",
    "* Using **drop_first=True** in pd.get_dummies avoids the dummy variable trap (multicollinearity).\n",
    "* Alignment: Aligns train_df and test_df columns to ensure they have the same structure after encoding. Missing columns in the test set are filled with 0.\n",
    "* Validation: Uses an **assert** statement to confirm that the train and test dataframes have identical columns after alignment."
   ]
  },
  {
   "cell_type": "markdown",
   "id": "a4207bfe",
   "metadata": {
    "papermill": {
     "duration": 0.007323,
     "end_time": "2024-12-29T20:14:55.618407",
     "exception": false,
     "start_time": "2024-12-29T20:14:55.611084",
     "status": "completed"
    },
    "tags": []
   },
   "source": [
    "# Handling Outliers"
   ]
  },
  {
   "cell_type": "code",
   "execution_count": 7,
   "id": "d344c7b8",
   "metadata": {
    "execution": {
     "iopub.execute_input": "2024-12-29T20:14:55.635180Z",
     "iopub.status.busy": "2024-12-29T20:14:55.634843Z",
     "iopub.status.idle": "2024-12-29T20:14:55.730034Z",
     "shell.execute_reply": "2024-12-29T20:14:55.728949Z"
    },
    "papermill": {
     "duration": 0.105431,
     "end_time": "2024-12-29T20:14:55.731618",
     "exception": false,
     "start_time": "2024-12-29T20:14:55.626187",
     "status": "completed"
    },
    "tags": []
   },
   "outputs": [
    {
     "name": "stdout",
     "output_type": "stream",
     "text": [
      "Feature: feature_01, Outliers: 1731\n",
      "Feature: feature_04, Outliers: 839\n",
      "Feature: feature_05, Outliers: 2327\n",
      "Feature: feature_06, Outliers: 781\n",
      "Feature: feature_07, Outliers: 1873\n",
      "Feature: feature_08, Outliers: 2431\n",
      "Feature: feature_11, Outliers: 1493\n",
      "Feature: feature_12, Outliers: 2119\n",
      "Feature: feature_13, Outliers: 1426\n",
      "Feature: feature_15, Outliers: 1945\n",
      "Feature: feature_16, Outliers: 1152\n",
      "Feature: feature_17, Outliers: 1958\n",
      "Feature: feature_18, Outliers: 1373\n",
      "Feature: feature_21, Outliers: 2914\n"
     ]
    }
   ],
   "source": [
    "# Handling Outliers\n",
    "\n",
    "\n",
    "# Handle outliers by scaling or flagging for analysis\n",
    "outlier_flags = pd.DataFrame()\n",
    "for feature in numeric_features:\n",
    "    if feature == 'id':  # Skip 'id' as it's a unique identifier\n",
    "        continue\n",
    "\n",
    "    # Compute IQR bounds\n",
    "    Q1 = train_df[feature].quantile(0.25)\n",
    "    Q3 = train_df[feature].quantile(0.75)\n",
    "    IQR = Q3 - Q1\n",
    "    lower_bound = Q1 - 1.5 * IQR\n",
    "    upper_bound = Q3 + 1.5 * IQR\n",
    "\n",
    "    # Count outliers\n",
    "    outliers = train_df[(train_df[feature] < lower_bound) | (train_df[feature] > upper_bound)].shape[0]\n",
    " \n",
    "\n",
    "\n",
    "    if outliers > 0:\n",
    "        # Flag outliers\n",
    "        train_df[f\"{feature}_outlier\"] = (train_df[feature] < lower_bound) | (train_df[feature] > upper_bound)\n",
    "        outlier_flags[feature] = train_df[f\"{feature}_outlier\"]\n",
    "\n",
    "        # Scale extreme values\n",
    "        train_df[feature] = np.where(train_df[f\"{feature}_outlier\"], np.clip(train_df[feature], lower_bound, upper_bound), train_df[feature])\n",
    "        print(f\"Feature: {feature}, Outliers: {outliers}\")\n"
   ]
  },
  {
   "cell_type": "code",
   "execution_count": 8,
   "id": "a4403065",
   "metadata": {
    "execution": {
     "iopub.execute_input": "2024-12-29T20:14:55.748858Z",
     "iopub.status.busy": "2024-12-29T20:14:55.748448Z",
     "iopub.status.idle": "2024-12-29T20:14:55.886028Z",
     "shell.execute_reply": "2024-12-29T20:14:55.884881Z"
    },
    "papermill": {
     "duration": 0.148189,
     "end_time": "2024-12-29T20:14:55.887847",
     "exception": false,
     "start_time": "2024-12-29T20:14:55.739658",
     "status": "completed"
    },
    "tags": []
   },
   "outputs": [
    {
     "name": "stdout",
     "output_type": "stream",
     "text": [
      "Feature: feature_01, Outliers in Test Data: 564\n",
      "Feature: feature_04, Outliers in Test Data: 311\n",
      "Feature: feature_05, Outliers in Test Data: 738\n",
      "Feature: feature_06, Outliers in Test Data: 240\n",
      "Feature: feature_07, Outliers in Test Data: 662\n",
      "Feature: feature_08, Outliers in Test Data: 842\n",
      "Feature: feature_11, Outliers in Test Data: 480\n",
      "Feature: feature_12, Outliers in Test Data: 707\n",
      "Feature: feature_13, Outliers in Test Data: 469\n",
      "Feature: feature_15, Outliers in Test Data: 684\n",
      "Feature: feature_16, Outliers in Test Data: 395\n",
      "Feature: feature_17, Outliers in Test Data: 641\n",
      "Feature: feature_18, Outliers in Test Data: 457\n",
      "Feature: feature_21, Outliers in Test Data: 969\n",
      "\n",
      "Outlier Summary for Test Data (Flag Counts):\n",
      "feature_01    564\n",
      "feature_04    311\n",
      "feature_05    738\n",
      "feature_06    240\n",
      "feature_07    662\n",
      "feature_08    842\n",
      "feature_11    480\n",
      "feature_12    707\n",
      "feature_13    469\n",
      "feature_15    684\n",
      "feature_16    395\n",
      "feature_17    641\n",
      "feature_18    457\n",
      "feature_21    969\n",
      "dtype: int64\n",
      "\n",
      "Updated Test Data Summary After Outlier Handling:\n",
      "                 id   feature_01   feature_02   feature_03   feature_04  \\\n",
      "count   7500.000000  7500.000000  7500.000000  7500.000000  7500.000000   \n",
      "mean   26250.500000     1.925076     0.531467     2.804933     1.179067   \n",
      "std     2165.207842     1.652824     1.037217     1.697233     1.224092   \n",
      "min    22501.000000     0.000000     0.000000     0.000000     0.000000   \n",
      "25%    24375.750000     0.670000     0.000000     1.000000     0.000000   \n",
      "50%    26250.500000     1.460000     0.000000     3.000000     1.000000   \n",
      "75%    28125.250000     2.630000     0.000000     4.000000     2.000000   \n",
      "max    30000.000000     5.800000     3.000000     5.000000     5.000000   \n",
      "\n",
      "        feature_05   feature_06   feature_07   feature_08   feature_10  \\\n",
      "count  7500.000000  7500.000000  7500.000000  7500.000000  7500.000000   \n",
      "mean      1.426109     0.389063     0.419685     2.410203     2.630000   \n",
      "std       1.182257     0.138810     0.171538     2.264874     2.086548   \n",
      "min       0.020000     0.045000     0.040000     0.000000     0.000000   \n",
      "25%       0.540000     0.300000     0.310000     0.690000     0.000000   \n",
      "50%       1.040000     0.380000     0.390000     1.650000     2.000000   \n",
      "75%       1.930000     0.470000     0.500000     3.340000     5.000000   \n",
      "max       4.048750     0.725000     0.800000     7.270000     5.000000   \n",
      "\n",
      "        feature_11   feature_12   feature_13   feature_15   feature_16  \\\n",
      "count  7500.000000  7500.000000  7500.000000  7500.000000  7500.000000   \n",
      "mean     -1.042835    -1.122305    -3.470018     2.109984    -3.479387   \n",
      "std       1.065742     1.160773     2.364681     1.860210     2.334036   \n",
      "min      -3.455000    -3.610000    -9.535000     0.000000    -9.735000   \n",
      "25%      -1.630000    -1.720000    -4.862500     0.670000    -4.930000   \n",
      "50%      -0.990000    -1.030000    -3.310000     1.490000    -3.300000   \n",
      "75%      -0.400000    -0.420000    -1.747500     3.022500    -1.760000   \n",
      "max       1.465000     1.510000     2.825000     6.230000     3.185000   \n",
      "\n",
      "        feature_17   feature_18   feature_19   feature_21  target  \n",
      "count  7500.000000  7500.000000  7500.000000  7500.000000  7500.0  \n",
      "mean     -1.105247     0.408351     1.052133     1.725158     0.0  \n",
      "std       1.098975     0.167152     1.311098     1.518089     0.0  \n",
      "min      -3.480000     0.030000     0.000000     0.030000     0.0  \n",
      "25%      -1.670000     0.290000     0.000000     0.607500     0.0  \n",
      "50%      -1.040000     0.390000     1.000000     1.130000     0.0  \n",
      "75%      -0.450000     0.500000     2.000000     2.320000     0.0  \n",
      "max       1.400000     0.815000     5.000000     4.865000     0.0  \n"
     ]
    }
   ],
   "source": [
    "# Create a DataFrame to store outlier flags\n",
    "test_outlier_flags = pd.DataFrame()\n",
    "\n",
    "# Handle outliers in test data\n",
    "for feature in numeric_features:\n",
    "    if feature == 'id':  # Skip 'id' as it's a unique identifier\n",
    "        continue\n",
    "\n",
    "    # Compute IQR bounds using training data statistics\n",
    "    Q1 = train_df[feature].quantile(0.25)\n",
    "    Q3 = train_df[feature].quantile(0.75)\n",
    "    IQR = Q3 - Q1\n",
    "    lower_bound = Q1 - 1.5 * IQR\n",
    "    upper_bound = Q3 + 1.5 * IQR\n",
    "\n",
    "    # Count outliers in test data\n",
    "    outliers = test_df[(test_df[feature] < lower_bound) | (test_df[feature] > upper_bound)].shape[0]\n",
    "    print(f\"Feature: {feature}, Outliers in Test Data: {outliers}\")\n",
    "\n",
    "    # Flag outliers in the test data\n",
    "    test_df[f\"{feature}_outlier\"] = (test_df[feature] < lower_bound) | (test_df[feature] > upper_bound)\n",
    "    test_outlier_flags[feature] = test_df[f\"{feature}_outlier\"]\n",
    "\n",
    "    # Scale (clip) outliers to within acceptable bounds\n",
    "    test_df[feature] = np.where(\n",
    "        test_df[f\"{feature}_outlier\"],\n",
    "        np.clip(test_df[feature], lower_bound, upper_bound),\n",
    "        test_df[feature]\n",
    "    )\n",
    "\n",
    "# Print the summary of outliers flagged\n",
    "print(\"\\nOutlier Summary for Test Data (Flag Counts):\")\n",
    "print(test_outlier_flags.sum())\n",
    "\n",
    "# Verify the updated test data\n",
    "print(\"\\nUpdated Test Data Summary After Outlier Handling:\")\n",
    "print(test_df.describe())\n"
   ]
  },
  {
   "cell_type": "code",
   "execution_count": 9,
   "id": "0465b564",
   "metadata": {
    "execution": {
     "iopub.execute_input": "2024-12-29T20:14:55.905169Z",
     "iopub.status.busy": "2024-12-29T20:14:55.904860Z",
     "iopub.status.idle": "2024-12-29T20:14:55.956496Z",
     "shell.execute_reply": "2024-12-29T20:14:55.955302Z"
    },
    "papermill": {
     "duration": 0.062417,
     "end_time": "2024-12-29T20:14:55.958451",
     "exception": false,
     "start_time": "2024-12-29T20:14:55.896034",
     "status": "completed"
    },
    "tags": []
   },
   "outputs": [
    {
     "name": "stdout",
     "output_type": "stream",
     "text": [
      "Feature: feature_01, Outliers: 0\n",
      "Feature: feature_04, Outliers: 0\n",
      "Feature: feature_05, Outliers: 0\n",
      "Feature: feature_06, Outliers: 0\n",
      "Feature: feature_07, Outliers: 0\n",
      "Feature: feature_08, Outliers: 0\n",
      "Feature: feature_11, Outliers: 0\n",
      "Feature: feature_12, Outliers: 0\n",
      "Feature: feature_13, Outliers: 0\n",
      "Feature: feature_15, Outliers: 0\n",
      "Feature: feature_16, Outliers: 0\n",
      "Feature: feature_17, Outliers: 0\n",
      "Feature: feature_18, Outliers: 0\n",
      "Feature: feature_21, Outliers: 0\n"
     ]
    }
   ],
   "source": [
    "for feature in numeric_features:\n",
    "    if feature == 'id':  # Skip 'id' as it's a unique identifier\n",
    "        continue\n",
    "    \n",
    "    # Compute IQR bounds\n",
    "    Q1 = train_df[feature].quantile(0.25)\n",
    "    Q3 = train_df[feature].quantile(0.75)\n",
    "    IQR = Q3 - Q1\n",
    "    lower_bound = Q1 - 1.5 * IQR\n",
    "    upper_bound = Q3 + 1.5 * IQR\n",
    "\n",
    "    # Count outliers\n",
    "    outliers = train_df[(train_df[feature] < lower_bound) | (train_df[feature] > upper_bound)].shape[0]\n",
    "\n",
    "    print(f\"Feature: {feature}, Outliers: {outliers}\")\n"
   ]
  },
  {
   "cell_type": "markdown",
   "id": "31acd02e",
   "metadata": {
    "papermill": {
     "duration": 0.007682,
     "end_time": "2024-12-29T20:14:55.974612",
     "exception": false,
     "start_time": "2024-12-29T20:14:55.966930",
     "status": "completed"
    },
    "tags": []
   },
   "source": [
    "* IQR Outlier Detection: For each numeric feature, the IQR (75th percentile - 25th percentile) is calculated. IQR=Q3−Q1\n",
    "* Lower Bound = Q1 − 1.5 × IQR and Upper Bound = Q3 + 1.5 × IQR\n",
    "* For each numeric feature: Flag outlier values in a new column (e.g., feature_01_outlier), with True indicating an outlier.\n",
    "* Replace outlier values by clipping them to the Lower Bound or Upper Bound to keep them within the acceptable range.\n"
   ]
  },
  {
   "cell_type": "markdown",
   "id": "d6ea7bac",
   "metadata": {
    "papermill": {
     "duration": 0.00797,
     "end_time": "2024-12-29T20:14:55.990781",
     "exception": false,
     "start_time": "2024-12-29T20:14:55.982811",
     "status": "completed"
    },
    "tags": []
   },
   "source": [
    "# Feature Analysis\n"
   ]
  },
  {
   "cell_type": "code",
   "execution_count": 10,
   "id": "4b9c5f02",
   "metadata": {
    "execution": {
     "iopub.execute_input": "2024-12-29T20:14:56.008212Z",
     "iopub.status.busy": "2024-12-29T20:14:56.007876Z",
     "iopub.status.idle": "2024-12-29T20:15:02.748842Z",
     "shell.execute_reply": "2024-12-29T20:15:02.747788Z"
    },
    "papermill": {
     "duration": 6.751824,
     "end_time": "2024-12-29T20:15:02.750676",
     "exception": false,
     "start_time": "2024-12-29T20:14:55.998852",
     "status": "completed"
    },
    "tags": []
   },
   "outputs": [
    {
     "name": "stdout",
     "output_type": "stream",
     "text": [
      "Top 10 Important Features:\n",
      "       Feature  Importance\n",
      "12  feature_15    0.074968\n",
      "4   feature_05    0.064762\n",
      "11  feature_13    0.061435\n",
      "13  feature_16    0.056621\n",
      "0   feature_01    0.055604\n",
      "9   feature_11    0.054541\n",
      "7   feature_08    0.053655\n",
      "10  feature_12    0.052782\n",
      "14  feature_17    0.052605\n",
      "17  feature_21    0.051146\n"
     ]
    },
    {
     "data": {
      "image/png": "[encoded data removed]",
      "text/plain": [
       "<Figure size 1000x600 with 1 Axes>"
      ]
     },
     "metadata": {},
     "output_type": "display_data"
    },
    {
     "name": "stdout",
     "output_type": "stream",
     "text": [
      "Selected Features (Importance > 0.01):\n",
      "['feature_15', 'feature_05', 'feature_13', 'feature_16', 'feature_01', 'feature_11', 'feature_08', 'feature_12', 'feature_17', 'feature_21', 'feature_18', 'feature_06', 'feature_07', 'feature_03', 'feature_19', 'feature_04', 'feature_10', 'feature_02', 'feature_14_q', 'feature_20_ad']\n"
     ]
    }
   ],
   "source": [
    "#FEATURE ANALYSIS\n",
    "\n",
    "# Step 1: Data Preparation\n",
    "from sklearn.ensemble import RandomForestClassifier\n",
    "from sklearn.preprocessing import RobustScaler\n",
    "import pandas as pd\n",
    "import numpy as np\n",
    "import matplotlib.pyplot as plt\n",
    "\n",
    "# Prepare features (drop irrelevant columns) and target variable\n",
    "X_train = train_df.drop(columns=['id', 'target'])  \n",
    "y_train = train_df['target']\n",
    "\n",
    "# Scale features using RobustScaler (optional for Random Forest)\n",
    "scaler = RobustScaler()\n",
    "X_train_scaled = pd.DataFrame(scaler.fit_transform(X_train), columns=X_train.columns)\n",
    "\n",
    "# Step 2: Train Random Forest for Feature Importance\n",
    "rf_model = RandomForestClassifier(random_state=42, n_estimators=100)\n",
    "rf_model.fit(X_train_scaled, y_train)\n",
    "\n",
    "# Extract feature importances\n",
    "feature_importances = pd.DataFrame({\n",
    "    'Feature': X_train.columns,\n",
    "    'Importance': rf_model.feature_importances_\n",
    "}).sort_values(by='Importance', ascending=False)\n",
    "\n",
    "# Display the top features\n",
    "print(\"Top 10 Important Features:\")\n",
    "print(feature_importances.head(10))\n",
    "\n",
    "# Step 3: Visualize Feature Importances\n",
    "top_features = feature_importances.head(10)\n",
    "plt.figure(figsize=(10, 6))\n",
    "plt.barh(top_features['Feature'], top_features['Importance'], color='skyblue')\n",
    "plt.gca().invert_yaxis()  # Show the most important feature on top\n",
    "plt.xlabel('Feature Importance')\n",
    "plt.title('Top 10 Features by Importance')\n",
    "plt.show()\n",
    "\n",
    "# Step 4: Filter Important Features (Optional)\n",
    "# Threshold for importance (adjust based on results)\n",
    "threshold = 0.01\n",
    "selected_features = feature_importances[feature_importances['Importance'] > threshold]['Feature']\n",
    "X_train_selected = X_train[selected_features]\n",
    "print(f\"Selected Features (Importance > {threshold}):\")\n",
    "print(selected_features.tolist())\n"
   ]
  },
  {
   "cell_type": "markdown",
   "id": "b68d8405",
   "metadata": {
    "papermill": {
     "duration": 0.00898,
     "end_time": "2024-12-29T20:15:02.769203",
     "exception": false,
     "start_time": "2024-12-29T20:15:02.760223",
     "status": "completed"
    },
    "tags": []
   },
   "source": [
    "* Scales features using **RobustScaler** to handle potential outliers and normalize data without being overly influenced by extreme values.\n",
    "* A **RandomForestClassifier** is trained to estimate feature importance based on how each feature contributes to the classification task.\n",
    "* Filters features with an importance score above a threshold\n",
    "* Feature importance helps understand which variables influence the target most, providing insights into the data.\n"
   ]
  },
  {
   "cell_type": "code",
   "execution_count": 11,
   "id": "ea976cd1",
   "metadata": {
    "execution": {
     "iopub.execute_input": "2024-12-29T20:15:02.789136Z",
     "iopub.status.busy": "2024-12-29T20:15:02.788780Z",
     "iopub.status.idle": "2024-12-29T20:15:02.834629Z",
     "shell.execute_reply": "2024-12-29T20:15:02.833487Z"
    },
    "papermill": {
     "duration": 0.058052,
     "end_time": "2024-12-29T20:15:02.836647",
     "exception": false,
     "start_time": "2024-12-29T20:15:02.778595",
     "status": "completed"
    },
    "tags": []
   },
   "outputs": [],
   "source": [
    "\n",
    "# Align train_df and test_df to ensure consistent columns\n",
    "train_df, test_df = train_df.align(test_df, join='left', axis=1)\n",
    "# Fill missing columns in test_df based on train_df patterns\n",
    "for column in test_df.columns:\n",
    "    if column not in train_df.columns:\n",
    "        # If the column doesn't exist in train_df, fill with 0\n",
    "        test_df[column] = 0\n",
    "    else:\n",
    "        # If the column exists, fill missing values with the mean from train_df\n",
    "        test_df[column].fillna(train_df[column].mean(), inplace=True)\n",
    "\n",
    "\n",
    "# Identify boolean columns in each DataFrame\n",
    "bool_columns_train = train_df.select_dtypes('bool').columns\n",
    "bool_columns_test = test_df.select_dtypes('bool').columns\n",
    "\n",
    "# Convert boolean columns to integers\n",
    "train_df[bool_columns_train] = train_df[bool_columns_train].astype(int)\n",
    "test_df[bool_columns_test] = test_df[bool_columns_test].astype(int)\n"
   ]
  },
  {
   "cell_type": "markdown",
   "id": "1bd8421a",
   "metadata": {
    "papermill": {
     "duration": 0.008876,
     "end_time": "2024-12-29T20:15:02.854859",
     "exception": false,
     "start_time": "2024-12-29T20:15:02.845983",
     "status": "completed"
    },
    "tags": []
   },
   "source": [
    "* Aligning train_df and test_df ensures that both datasets have identical column structures\n",
    "* Converting boolean columns to integers (0 and 1) ensures compatibility with machine learning models\n"
   ]
  },
  {
   "cell_type": "code",
   "execution_count": 12,
   "id": "7f48a8ca",
   "metadata": {
    "execution": {
     "iopub.execute_input": "2024-12-29T20:15:02.874256Z",
     "iopub.status.busy": "2024-12-29T20:15:02.873930Z",
     "iopub.status.idle": "2024-12-29T20:15:03.112304Z",
     "shell.execute_reply": "2024-12-29T20:15:03.111265Z"
    },
    "papermill": {
     "duration": 0.250239,
     "end_time": "2024-12-29T20:15:03.114206",
     "exception": false,
     "start_time": "2024-12-29T20:15:02.863967",
     "status": "completed"
    },
    "tags": []
   },
   "outputs": [
    {
     "name": "stdout",
     "output_type": "stream",
     "text": [
      "Number of data points in each target class:\n",
      "target\n",
      "5    5830\n",
      "3    5614\n",
      "1    5289\n",
      "0    2209\n",
      "2    1931\n",
      "4    1627\n",
      "Name: count, dtype: int64\n"
     ]
    },
    {
     "data": {
      "image/png": "[encoded data removed]",
      "text/plain": [
       "<Figure size 640x480 with 1 Axes>"
      ]
     },
     "metadata": {},
     "output_type": "display_data"
    }
   ],
   "source": [
    "# Check for class imbalance in the target variable\n",
    "\n",
    "class_counts = train_df['target'].value_counts()\n",
    "\n",
    "# Display the counts\n",
    "print(\"Number of data points in each target class:\")\n",
    "print(class_counts)\n",
    "\n",
    "sns.countplot(x='target', data=train_df)\n",
    "plt.title(\"Target Class Distribution\")\n",
    "plt.show()"
   ]
  },
  {
   "cell_type": "code",
   "execution_count": 13,
   "id": "0bb1262f",
   "metadata": {
    "execution": {
     "iopub.execute_input": "2024-12-29T20:15:03.134856Z",
     "iopub.status.busy": "2024-12-29T20:15:03.134435Z",
     "iopub.status.idle": "2024-12-29T20:15:03.786691Z",
     "shell.execute_reply": "2024-12-29T20:15:03.785399Z"
    },
    "papermill": {
     "duration": 0.664149,
     "end_time": "2024-12-29T20:15:03.788328",
     "exception": false,
     "start_time": "2024-12-29T20:15:03.124179",
     "status": "completed"
    },
    "tags": []
   },
   "outputs": [
    {
     "name": "stdout",
     "output_type": "stream",
     "text": [
      "SMOTE applied: Resampled class distribution\n",
      "target\n",
      "1    5830\n",
      "5    5830\n",
      "3    5830\n",
      "0    4400\n",
      "2    3862\n",
      "4    3254\n",
      "Name: count, dtype: int64\n"
     ]
    }
   ],
   "source": [
    "from imblearn.over_sampling import SMOTE\n",
    "\n",
    "sampling_strategy = {\n",
    "    0: 4400,  # Double class 0\n",
    "    1: 5830,  # Keep majority class 1 as is\n",
    "    2: 3862,  # Double class 2\n",
    "    3: 5830,  # Keep majority class 3 as is\n",
    "    4: 3254,  # Double class 4\n",
    "    5: 5830,  # Keep majority class 5 as is\n",
    "}\n",
    "\n",
    "\n",
    "smote = SMOTE(random_state=42, sampling_strategy=sampling_strategy)\n",
    "X = train_df.drop(columns=['id', 'target'])\n",
    "y = train_df['target']\n",
    "X_train_resampled, y_train_resampled = smote.fit_resample(X, y)\n",
    "\n",
    "print(\"SMOTE applied: Resampled class distribution\")\n",
    "print(pd.Series(y_train_resampled).value_counts())\n",
    "\n",
    "# Scale features using RobustScaler\n",
    "scaler = RobustScaler()\n",
    "X_train_scaled = pd.DataFrame(scaler.fit_transform(X_train_resampled), columns=X_train.columns)\n"
   ]
  },
  {
   "cell_type": "markdown",
   "id": "9cbba60c",
   "metadata": {
    "papermill": {
     "duration": 0.009813,
     "end_time": "2024-12-29T20:15:03.807928",
     "exception": false,
     "start_time": "2024-12-29T20:15:03.798115",
     "status": "completed"
    },
    "tags": []
   },
   "source": [
    "* **SMOTE (Synthetic Minority Oversampling Technique)**: Generates synthetic samples for underrepresented classes to balance the dataset.\n",
    "* Oversample smaller classes (e.g., class 0, class 2, class 4)\n",
    "* Retain the size of majority classes (class 1, class 3, class 5)\n",
    "* **RobustScaler** to scale the resampled dataset, making it robust to outliers while normalizing feature values.\n",
    "* Ensuring that the model does not favor majority classes, improving its ability to generalize across all classes.\n",
    "\n",
    "\n",
    "\n",
    "* Now we need to check everything is okay after SMOTE:"
   ]
  },
  {
   "cell_type": "code",
   "execution_count": 14,
   "id": "851b4c1d",
   "metadata": {
    "execution": {
     "iopub.execute_input": "2024-12-29T20:15:03.828542Z",
     "iopub.status.busy": "2024-12-29T20:15:03.828056Z",
     "iopub.status.idle": "2024-12-29T20:15:04.088796Z",
     "shell.execute_reply": "2024-12-29T20:15:04.087605Z"
    },
    "papermill": {
     "duration": 0.272744,
     "end_time": "2024-12-29T20:15:04.090413",
     "exception": false,
     "start_time": "2024-12-29T20:15:03.817669",
     "status": "completed"
    },
    "tags": []
   },
   "outputs": [
    {
     "name": "stdout",
     "output_type": "stream",
     "text": [
      "Check for Missing Values in Training Data:\n",
      "0\n",
      "Check for Missing Values in Testing Data:\n",
      "0\n",
      "Training Data Columns:\n",
      "Index(['feature_01', 'feature_02', 'feature_03', 'feature_04', 'feature_05',\n",
      "       'feature_06', 'feature_07', 'feature_08', 'feature_10', 'feature_11',\n",
      "       'feature_12', 'feature_13', 'feature_15', 'feature_16', 'feature_17',\n",
      "       'feature_18', 'feature_19', 'feature_21', 'feature_09_xy',\n",
      "       'feature_09_yx', 'feature_09_yy', 'feature_14_q', 'feature_14_r',\n",
      "       'feature_14_s', 'feature_14_t', 'feature_14_u', 'feature_20_ab',\n",
      "       'feature_20_ac', 'feature_20_ad', 'feature_20_ae', 'feature_01_outlier',\n",
      "       'feature_04_outlier', 'feature_05_outlier', 'feature_06_outlier',\n",
      "       'feature_07_outlier', 'feature_08_outlier', 'feature_11_outlier',\n",
      "       'feature_12_outlier', 'feature_13_outlier', 'feature_15_outlier',\n",
      "       'feature_16_outlier', 'feature_17_outlier', 'feature_18_outlier',\n",
      "       'feature_21_outlier'],\n",
      "      dtype='object')\n",
      "Testing Data Columns:\n",
      "Index(['id', 'feature_01', 'feature_02', 'feature_03', 'feature_04',\n",
      "       'feature_05', 'feature_06', 'feature_07', 'feature_08', 'feature_10',\n",
      "       'feature_11', 'feature_12', 'feature_13', 'feature_15', 'feature_16',\n",
      "       'feature_17', 'feature_18', 'feature_19', 'feature_21', 'target',\n",
      "       'feature_09_xy', 'feature_09_yx', 'feature_09_yy', 'feature_14_q',\n",
      "       'feature_14_r', 'feature_14_s', 'feature_14_t', 'feature_14_u',\n",
      "       'feature_20_ab', 'feature_20_ac', 'feature_20_ad', 'feature_20_ae',\n",
      "       'feature_01_outlier', 'feature_04_outlier', 'feature_05_outlier',\n",
      "       'feature_06_outlier', 'feature_07_outlier', 'feature_08_outlier',\n",
      "       'feature_11_outlier', 'feature_12_outlier', 'feature_13_outlier',\n",
      "       'feature_15_outlier', 'feature_16_outlier', 'feature_17_outlier',\n",
      "       'feature_18_outlier', 'feature_21_outlier'],\n",
      "      dtype='object')\n",
      "Summary Statistics of Training Data:\n",
      "         feature_01    feature_02    feature_03    feature_04    feature_05  \\\n",
      "count  29006.000000  29006.000000  29006.000000  29006.000000  29006.000000   \n",
      "mean       1.940813      0.483119      2.792979      1.206718      1.546470   \n",
      "std        1.643102      0.981131      1.681928      1.186696      1.208873   \n",
      "min        0.000000      0.000000      0.000000      0.000000      0.020000   \n",
      "25%        0.724935      0.000000      1.000000      0.000000      0.629981   \n",
      "50%        1.460000      0.000000      3.000000      1.000000      1.040000   \n",
      "75%        2.647114      0.000000      4.000000      2.000000      2.200000   \n",
      "max        5.800000      3.000000      5.000000      5.000000      4.048750   \n",
      "\n",
      "         feature_06    feature_07    feature_08    feature_10    feature_11  \\\n",
      "count  29006.000000  29006.000000  29006.000000  29006.000000  29006.000000   \n",
      "mean       0.390807      0.418164      2.335265      2.581559     -1.029452   \n",
      "std        0.133816      0.163651      2.177851      2.084801      1.027067   \n",
      "min        0.045000      0.030000      0.000000      0.000000     -3.455000   \n",
      "25%        0.300000      0.310000      0.730000      0.238735     -1.580000   \n",
      "50%        0.380000      0.390000      1.650000      2.000000     -0.990000   \n",
      "75%        0.470000      0.500000      3.120000      5.000000     -0.410000   \n",
      "max        0.725000      0.800000      7.270000      5.000000      1.465000   \n",
      "\n",
      "       ...  feature_07_outlier  feature_08_outlier  feature_11_outlier  \\\n",
      "count  ...        29006.000000        29006.000000        29006.000000   \n",
      "mean   ...            0.066814            0.100221            0.053885   \n",
      "std    ...            0.249703            0.300299            0.225795   \n",
      "min    ...            0.000000            0.000000            0.000000   \n",
      "25%    ...            0.000000            0.000000            0.000000   \n",
      "50%    ...            0.000000            0.000000            0.000000   \n",
      "75%    ...            0.000000            0.000000            0.000000   \n",
      "max    ...            1.000000            1.000000            1.000000   \n",
      "\n",
      "       feature_12_outlier  feature_13_outlier  feature_15_outlier  \\\n",
      "count        29006.000000        29006.000000        29006.000000   \n",
      "mean             0.078432            0.061573            0.081983   \n",
      "std              0.268855            0.240383            0.274344   \n",
      "min              0.000000            0.000000            0.000000   \n",
      "25%              0.000000            0.000000            0.000000   \n",
      "50%              0.000000            0.000000            0.000000   \n",
      "75%              0.000000            0.000000            0.000000   \n",
      "max              1.000000            1.000000            1.000000   \n",
      "\n",
      "       feature_16_outlier  feature_17_outlier  feature_18_outlier  \\\n",
      "count        29006.000000        29006.000000        29006.000000   \n",
      "mean             0.047990            0.070951            0.048369   \n",
      "std              0.213749            0.256747            0.214549   \n",
      "min              0.000000            0.000000            0.000000   \n",
      "25%              0.000000            0.000000            0.000000   \n",
      "50%              0.000000            0.000000            0.000000   \n",
      "75%              0.000000            0.000000            0.000000   \n",
      "max              1.000000            1.000000            1.000000   \n",
      "\n",
      "       feature_21_outlier  \n",
      "count        29006.000000  \n",
      "mean             0.116286  \n",
      "std              0.320573  \n",
      "min              0.000000  \n",
      "25%              0.000000  \n",
      "50%              0.000000  \n",
      "75%              0.000000  \n",
      "max              1.000000  \n",
      "\n",
      "[8 rows x 44 columns]\n",
      "Feature: feature_01, Outliers:  2246\n",
      "Feature: feature_04, Outliers:  0\n",
      "Feature: feature_05, Outliers:  0\n",
      "Feature: feature_06, Outliers:  0\n",
      "Feature: feature_07, Outliers:  1999\n",
      "Feature: feature_08, Outliers:  3172\n",
      "Feature: feature_11, Outliers:  1734\n",
      "Feature: feature_12, Outliers:  2361\n",
      "Feature: feature_13, Outliers:  1723\n",
      "Feature: feature_15, Outliers:  0\n",
      "Feature: feature_16, Outliers:  1398\n",
      "Feature: feature_17, Outliers:  2197\n",
      "Feature: feature_18, Outliers:  1516\n",
      "Feature: feature_21, Outliers:  3723\n",
      "Target Variable Distribution:\n",
      "target\n",
      "1    5830\n",
      "5    5830\n",
      "3    5830\n",
      "0    4400\n",
      "2    3862\n",
      "4    3254\n",
      "Name: count, dtype: int64\n"
     ]
    }
   ],
   "source": [
    "# Check for missing values \n",
    "print(\"Check for Missing Values in Training Data:\")\n",
    "print(X_train_resampled.isnull().sum().sum())\n",
    "\n",
    "print(\"Check for Missing Values in Testing Data:\")\n",
    "print(test_df.isnull().sum().sum())\n",
    "\n",
    "# Verify alignment of train and test datasets\n",
    "print(\"Training Data Columns:\")\n",
    "print(X_train_resampled.columns)\n",
    "\n",
    "print(\"Testing Data Columns:\")\n",
    "print(test_df.columns)\n",
    "\n",
    "# Check feature scaling\n",
    "print(\"Summary Statistics of Training Data:\")\n",
    "print(X_train_resampled.describe())\n",
    "\n",
    "\n",
    "# Ensure there are no outliers in numeric features \n",
    "for feature in numeric_features:\n",
    "    if feature not in X_train_resampled.columns:\n",
    "        continue  # Skip if feature is not in resampled training data\n",
    "    print(f\"Feature: {feature}, Outliers: \", \n",
    "          X_train_resampled[(X_train_resampled[feature] < X_train_resampled[feature].quantile(0.25) - 1.5 * (X_train_resampled[feature].quantile(0.75) - X_train_resampled[feature].quantile(0.25))) |\n",
    "                           (X_train_resampled[feature] > X_train_resampled[feature].quantile(0.75) + 1.5 * (X_train_resampled[feature].quantile(0.75) - X_train_resampled[feature].quantile(0.25)))].shape[0])\n",
    "\n",
    "# Ensure target variable distribution is balanced\n",
    "print(\"Target Variable Distribution:\")\n",
    "print(y_train_resampled.value_counts())\n"
   ]
  },
  {
   "cell_type": "code",
   "execution_count": 15,
   "id": "61fb753e",
   "metadata": {
    "execution": {
     "iopub.execute_input": "2024-12-29T20:15:04.111764Z",
     "iopub.status.busy": "2024-12-29T20:15:04.111338Z",
     "iopub.status.idle": "2024-12-29T20:15:04.314174Z",
     "shell.execute_reply": "2024-12-29T20:15:04.313054Z"
    },
    "papermill": {
     "duration": 0.215366,
     "end_time": "2024-12-29T20:15:04.315893",
     "exception": false,
     "start_time": "2024-12-29T20:15:04.100527",
     "status": "completed"
    },
    "tags": []
   },
   "outputs": [
    {
     "name": "stdout",
     "output_type": "stream",
     "text": [
      "Feature: feature_01, Outliers:  2246\n",
      "Feature: feature_04, Outliers:  0\n",
      "Feature: feature_05, Outliers:  0\n",
      "Feature: feature_06, Outliers:  0\n",
      "Feature: feature_07, Outliers:  1999\n",
      "Feature: feature_08, Outliers:  3172\n",
      "Feature: feature_11, Outliers:  1734\n",
      "Feature: feature_12, Outliers:  2361\n",
      "Feature: feature_13, Outliers:  1723\n",
      "Feature: feature_15, Outliers:  0\n",
      "Feature: feature_16, Outliers:  1398\n",
      "Feature: feature_17, Outliers:  2197\n",
      "Feature: feature_18, Outliers:  1516\n",
      "Feature: feature_21, Outliers:  0\n"
     ]
    }
   ],
   "source": [
    "for feature in numeric_features:\n",
    "    if feature not in X_train_resampled.columns:  # Skip if feature is not in resampled training data\n",
    "        continue\n",
    "\n",
    "    # Compute IQR bounds\n",
    "    Q1 = X_train_resampled[feature].quantile(0.25)\n",
    "    Q3 = X_train_resampled[feature].quantile(0.75)\n",
    "    IQR = Q3 - Q1\n",
    "    lower_bound = Q1 - 1.5 * IQR\n",
    "    upper_bound = Q3 + 1.5 * IQR\n",
    "\n",
    "    # Count outliers\n",
    "    outliers = X_train_resampled[(X_train_resampled[feature] < lower_bound) | (X_train_resampled[feature] > upper_bound)].shape[0]\n",
    " \n",
    "\n",
    "if outliers > 0:\n",
    "        # Flag outliers\n",
    "        X_train_resampled[f\"{feature}_outlier\"] = (X_train_resampled[feature] < lower_bound) | (X_train_resampled[feature] > upper_bound)\n",
    "        outlier_flags[feature] = X_train_resampled[f\"{feature}_outlier\"]\n",
    "\n",
    "        # Scale extreme values\n",
    "        X_train_resampled[feature] = np.where(X_train_resampled[f\"{feature}_outlier\"], np.clip(X_train_resampled[feature], lower_bound, upper_bound), X_train_resampled[feature])\n",
    "\n",
    "for feature in numeric_features:\n",
    "    if feature not in X_train_resampled.columns:  # Skip if feature is not in resampled training data\n",
    "        continue\n",
    "    print(f\"Feature: {feature}, Outliers: \", \n",
    "          X_train_resampled[(X_train_resampled[feature] < X_train_resampled[feature].quantile(0.25) - 1.5 * (X_train_resampled[feature].quantile(0.75) - X_train_resampled[feature].quantile(0.25))) |\n",
    "                           (X_train_resampled[feature] > X_train_resampled[feature].quantile(0.75) + 1.5 * (X_train_resampled[feature].quantile(0.75) - X_train_resampled[feature].quantile(0.25)))].shape[0])\n"
   ]
  },
  {
   "cell_type": "code",
   "execution_count": 16,
   "id": "718e8938",
   "metadata": {
    "execution": {
     "iopub.execute_input": "2024-12-29T20:15:04.337895Z",
     "iopub.status.busy": "2024-12-29T20:15:04.337367Z",
     "iopub.status.idle": "2024-12-29T20:15:04.509609Z",
     "shell.execute_reply": "2024-12-29T20:15:04.508387Z"
    },
    "papermill": {
     "duration": 0.184761,
     "end_time": "2024-12-29T20:15:04.511363",
     "exception": false,
     "start_time": "2024-12-29T20:15:04.326602",
     "status": "completed"
    },
    "tags": []
   },
   "outputs": [
    {
     "name": "stdout",
     "output_type": "stream",
     "text": [
      "Feature: feature_01, Outliers:  0\n",
      "Feature: feature_04, Outliers:  0\n",
      "Feature: feature_05, Outliers:  0\n",
      "Feature: feature_06, Outliers:  0\n",
      "Feature: feature_07, Outliers:  0\n",
      "Feature: feature_08, Outliers:  0\n",
      "Feature: feature_11, Outliers:  0\n",
      "Feature: feature_12, Outliers:  0\n",
      "Feature: feature_13, Outliers:  0\n",
      "Feature: feature_15, Outliers:  0\n",
      "Feature: feature_16, Outliers:  0\n",
      "Feature: feature_17, Outliers:  0\n",
      "Feature: feature_18, Outliers:  0\n",
      "Feature: feature_21, Outliers:  0\n"
     ]
    }
   ],
   "source": [
    "for feature in numeric_features:\n",
    "    if feature not in X_train_resampled.columns:\n",
    "        continue\n",
    "\n",
    "    # Compute IQR bounds\n",
    "    Q1 = X_train_resampled[feature].quantile(0.25)\n",
    "    Q3 = X_train_resampled[feature].quantile(0.75)\n",
    "    IQR = Q3 - Q1\n",
    "    lower_bound = Q1 - 1.5 * IQR\n",
    "    upper_bound = Q3 + 1.5 * IQR\n",
    "\n",
    "    # Clip the synthetic samples\n",
    "    X_train_resampled[feature] = np.clip(X_train_resampled[feature], lower_bound, upper_bound)\n",
    "\n",
    "for feature in numeric_features:\n",
    "    if feature not in X_train_resampled.columns:  # Skip if feature is not in resampled training data\n",
    "        continue\n",
    "    print(f\"Feature: {feature}, Outliers: \", \n",
    "          X_train_resampled[(X_train_resampled[feature] < X_train_resampled[feature].quantile(0.25) - 1.5 * (X_train_resampled[feature].quantile(0.75) - X_train_resampled[feature].quantile(0.25))) |\n",
    "                           (X_train_resampled[feature] > X_train_resampled[feature].quantile(0.75) + 1.5 * (X_train_resampled[feature].quantile(0.75) - X_train_resampled[feature].quantile(0.25)))].shape[0])\n"
   ]
  },
  {
   "cell_type": "code",
   "execution_count": 17,
   "id": "553e728c",
   "metadata": {
    "execution": {
     "iopub.execute_input": "2024-12-29T20:15:04.533049Z",
     "iopub.status.busy": "2024-12-29T20:15:04.532711Z",
     "iopub.status.idle": "2024-12-29T20:15:04.768018Z",
     "shell.execute_reply": "2024-12-29T20:15:04.766856Z"
    },
    "papermill": {
     "duration": 0.24809,
     "end_time": "2024-12-29T20:15:04.769820",
     "exception": false,
     "start_time": "2024-12-29T20:15:04.521730",
     "status": "completed"
    },
    "tags": []
   },
   "outputs": [
    {
     "name": "stdout",
     "output_type": "stream",
     "text": [
      "Selected Feature Ranges:\n",
      "      feature_15  feature_05  feature_13  feature_16  feature_01  feature_11  \\\n",
      "min        0.00     0.02000      -9.245       -9.62    0.000000      -3.335   \n",
      "max        6.23     4.04875       2.825        2.94    5.530383       1.345   \n",
      "\n",
      "     feature_08  feature_12  feature_17  feature_21  feature_18  feature_06  \\\n",
      "min       0.000   -3.518046      -3.385       0.020    0.030000       0.045   \n",
      "max       6.705    1.438827       1.295       4.475    0.778022       0.725   \n",
      "\n",
      "     feature_07  feature_03  feature_19  feature_04  feature_10  feature_02  \\\n",
      "min       0.030         0.0         0.0         0.0         0.0         0.0   \n",
      "max       0.785         5.0         5.0         5.0         5.0         3.0   \n",
      "\n",
      "     feature_14_q  feature_20_ad  \n",
      "min           0.0            0.0  \n",
      "max           1.0            1.0  \n",
      "\n",
      "Training Data Preview (after feature scaling):\n",
      "   feature_01  feature_02  feature_03  feature_04  feature_05  feature_06  \\\n",
      "0    0.339940    0.666666         0.0         0.4    0.933292    1.176469   \n",
      "1    2.000000    1.333333         0.0         0.4    0.556004    0.970587   \n",
      "2    0.951109    0.000000         2.0         0.8    0.794291    1.029410   \n",
      "3    0.661798    0.000000         1.2         0.4    0.486503    1.294116   \n",
      "4    0.122957    1.333333         2.0         0.0    0.461682    1.558821   \n",
      "\n",
      "   feature_07  feature_08  feature_10  feature_11  ...  feature_07_outlier  \\\n",
      "0    1.033111    0.396719         2.0   -0.423077  ...                   0   \n",
      "1    0.662251    0.584638         1.6   -0.547008  ...                   0   \n",
      "2    1.139071    0.721849         0.8   -0.222222  ...                   0   \n",
      "3    0.397350    0.623415         0.8   -1.192307  ...                   0   \n",
      "4    0.688741    1.282625         2.0   -0.482906  ...                   0   \n",
      "\n",
      "   feature_08_outlier  feature_11_outlier  feature_12_outlier  \\\n",
      "0                   0                   0                   0   \n",
      "1                   0                   0                   1   \n",
      "2                   0                   0                   0   \n",
      "3                   0                   0                   0   \n",
      "4                   0                   0                   0   \n",
      "\n",
      "   feature_13_outlier  feature_15_outlier  feature_16_outlier  \\\n",
      "0                   0                   0                   0   \n",
      "1                   0                   0                   0   \n",
      "2                   0                   0                   0   \n",
      "3                   0                   0                   0   \n",
      "4                   0                   0                   0   \n",
      "\n",
      "   feature_17_outlier  feature_18_outlier  feature_21_outlier  \n",
      "0                   0                   0               False  \n",
      "1                   1                   0               False  \n",
      "2                   1                   0               False  \n",
      "3                   0                   0               False  \n",
      "4                   0                   0               False  \n",
      "\n",
      "[5 rows x 44 columns]\n",
      "\n",
      "Testing Data Preview (after feature scaling):\n",
      "        id  feature_01  feature_02  feature_03  feature_04  feature_05  \\\n",
      "0  22501.0    0.527992    1.999999         1.6         0.8    0.074465   \n",
      "1  22502.0    0.083177    0.000000         0.8         1.2    0.943220   \n",
      "2  22503.0    0.206134    0.000000         1.6         0.0    1.087186   \n",
      "3  22504.0    1.547813    0.000000         1.6         0.4    0.466646   \n",
      "4  22505.0    0.325475    0.000000         1.6         0.4    0.704933   \n",
      "\n",
      "   feature_06  feature_07  feature_08  feature_10  ...  feature_07_outlier  \\\n",
      "0    1.058822    0.450331    0.447427         2.0  ...                   0   \n",
      "1    1.882350    1.033111    0.432513         0.0  ...                   0   \n",
      "2    1.117645    1.033111    0.023863         2.0  ...                   0   \n",
      "3    1.117645    0.715231    0.468307         0.4  ...                   0   \n",
      "4    1.794115    1.192051    0.074571         0.0  ...                   0   \n",
      "\n",
      "   feature_08_outlier  feature_11_outlier  feature_12_outlier  \\\n",
      "0                   0                   0                   0   \n",
      "1                   0                   0                   0   \n",
      "2                   0                   0                   1   \n",
      "3                   0                   0                   0   \n",
      "4                   0                   0                   0   \n",
      "\n",
      "   feature_13_outlier  feature_15_outlier  feature_16_outlier  \\\n",
      "0                   0                   0                   0   \n",
      "1                   0                   0                   0   \n",
      "2                   0                   0                   0   \n",
      "3                   0                   0                   0   \n",
      "4                   0                   0                   0   \n",
      "\n",
      "   feature_17_outlier  feature_18_outlier  feature_21_outlier  \n",
      "0                   0                   1                   0  \n",
      "1                   0                   0                   0  \n",
      "2                   0                   0                   0  \n",
      "3                   0                   0                   0  \n",
      "4                   0                   0                   0  \n",
      "\n",
      "[5 rows x 46 columns]\n",
      "Feature: feature_01, Outliers:  0\n",
      "Feature: feature_04, Outliers:  0\n",
      "Feature: feature_05, Outliers:  0\n",
      "Feature: feature_06, Outliers:  786\n",
      "Feature: feature_07, Outliers:  1999\n",
      "Feature: feature_08, Outliers:  0\n",
      "Feature: feature_11, Outliers:  1734\n",
      "Feature: feature_12, Outliers:  0\n",
      "Feature: feature_13, Outliers:  0\n",
      "Feature: feature_15, Outliers:  0\n",
      "Feature: feature_16, Outliers:  1342\n",
      "Feature: feature_17, Outliers:  0\n",
      "Feature: feature_18, Outliers:  0\n",
      "Feature: feature_21, Outliers:  0\n"
     ]
    }
   ],
   "source": [
    "# Scale selected features to emphasize their importance\n",
    "selected_feature_ranges = X_train_resampled[selected_features].describe().loc[['min', 'max']]\n",
    "print(\"Selected Feature Ranges:\\n\", selected_feature_ranges)\n",
    "scaling_factors = {}\n",
    "for feature in selected_features:\n",
    "    range_value = X_train_resampled[feature].max() - X_train_resampled[feature].min()\n",
    "    scaling_factors[feature] = 2 / (range_value + 1e-6)  # Small constant to avoid division by zero\n",
    "\n",
    "# Apply the scaling\n",
    "for feature in selected_features:\n",
    "    if feature in X_train_resampled.columns:\n",
    "        X_train_resampled[feature] *= scaling_factors[feature]\n",
    "    if feature in test_df.columns:\n",
    "        test_df[feature] *= scaling_factors[feature]\n",
    "\n",
    "\n",
    "# Align datasets to ensure consistent columns\n",
    "train_df, test_df = train_df.align(test_df, join='left', axis=1)\n",
    "test_df.fillna(0, inplace=True)  # Fill missing columns in test data with 0\n",
    "\n",
    "# Display updated datasets\n",
    "print(\"\\nTraining Data Preview (after feature scaling):\")\n",
    "print(X_train_resampled.head())\n",
    "\n",
    "print(\"\\nTesting Data Preview (after feature scaling):\")\n",
    "print(test_df.head())\n",
    "\n",
    "\n",
    "\n",
    "for feature in numeric_features:\n",
    "    if feature not in X_train_resampled.columns:  # Skip if feature is not in resampled training data\n",
    "        continue\n",
    "    print(f\"Feature: {feature}, Outliers: \", \n",
    "          X_train_resampled[(X_train_resampled[feature] < X_train_resampled[feature].quantile(0.25) - 1.5 * (X_train_resampled[feature].quantile(0.75) - X_train_resampled[feature].quantile(0.25))) |\n",
    "                           (X_train_resampled[feature] > X_train_resampled[feature].quantile(0.75) + 1.5 * (X_train_resampled[feature].quantile(0.75) - X_train_resampled[feature].quantile(0.25)))].shape[0])\n"
   ]
  },
  {
   "cell_type": "markdown",
   "id": "374e419e",
   "metadata": {
    "papermill": {
     "duration": 0.00986,
     "end_time": "2024-12-29T20:15:04.790217",
     "exception": false,
     "start_time": "2024-12-29T20:15:04.780357",
     "status": "completed"
    },
    "tags": []
   },
   "source": [
    "* Feature scaling for selected features: Computes the range for each selected feature and calculates a scaling factor as 2/range\n",
    "* Applies the scaling factor to both the **X_train_resampled** and the **test_df**\n",
    "* Scaling factors are calculated carefully to prevent division by zero (1e-6 added as a small constant).\n",
    "\n",
    "\n",
    "\n"
   ]
  },
  {
   "cell_type": "code",
   "execution_count": 18,
   "id": "8a6b7b6d",
   "metadata": {
    "execution": {
     "iopub.execute_input": "2024-12-29T20:15:04.811988Z",
     "iopub.status.busy": "2024-12-29T20:15:04.811653Z",
     "iopub.status.idle": "2024-12-29T20:15:04.978487Z",
     "shell.execute_reply": "2024-12-29T20:15:04.977063Z"
    },
    "papermill": {
     "duration": 0.179852,
     "end_time": "2024-12-29T20:15:04.980175",
     "exception": false,
     "start_time": "2024-12-29T20:15:04.800323",
     "status": "completed"
    },
    "tags": []
   },
   "outputs": [
    {
     "name": "stdout",
     "output_type": "stream",
     "text": [
      "Feature: feature_01, Outliers:  0\n",
      "Feature: feature_04, Outliers:  0\n",
      "Feature: feature_05, Outliers:  0\n",
      "Feature: feature_06, Outliers:  0\n",
      "Feature: feature_07, Outliers:  0\n",
      "Feature: feature_08, Outliers:  0\n",
      "Feature: feature_11, Outliers:  0\n",
      "Feature: feature_12, Outliers:  0\n",
      "Feature: feature_13, Outliers:  0\n",
      "Feature: feature_15, Outliers:  0\n",
      "Feature: feature_16, Outliers:  0\n",
      "Feature: feature_17, Outliers:  0\n",
      "Feature: feature_18, Outliers:  0\n",
      "Feature: feature_21, Outliers:  0\n"
     ]
    }
   ],
   "source": [
    "for feature in numeric_features:\n",
    "    if feature not in X_train_resampled.columns:\n",
    "        continue\n",
    "\n",
    "    # Compute IQR bounds\n",
    "    Q1 = X_train_resampled[feature].quantile(0.25)\n",
    "    Q3 = X_train_resampled[feature].quantile(0.75)\n",
    "    IQR = Q3 - Q1\n",
    "    lower_bound = Q1 - 1.5 * IQR\n",
    "    upper_bound = Q3 + 1.5 * IQR\n",
    "\n",
    "    # Clip the synthetic samples\n",
    "    X_train_resampled[feature] = np.clip(X_train_resampled[feature], lower_bound, upper_bound)\n",
    "\n",
    "for feature in numeric_features:\n",
    "    if feature not in X_train_resampled.columns:  # Skip if feature is not in resampled training data\n",
    "        continue\n",
    "    print(f\"Feature: {feature}, Outliers: \", \n",
    "          X_train_resampled[(X_train_resampled[feature] < X_train_resampled[feature].quantile(0.25) - 1.5 * (X_train_resampled[feature].quantile(0.75) - X_train_resampled[feature].quantile(0.25))) |\n",
    "                           (X_train_resampled[feature] > X_train_resampled[feature].quantile(0.75) + 1.5 * (X_train_resampled[feature].quantile(0.75) - X_train_resampled[feature].quantile(0.25)))].shape[0])\n"
   ]
  },
  {
   "cell_type": "markdown",
   "id": "1ed5d05c",
   "metadata": {
    "papermill": {
     "duration": 0.010043,
     "end_time": "2024-12-29T20:15:05.000689",
     "exception": false,
     "start_time": "2024-12-29T20:15:04.990646",
     "status": "completed"
    },
    "tags": []
   },
   "source": [
    "* The code now flags and clips outliers efficiently for all numeric features, ensuring consistent preprocessing across both datasets.\n"
   ]
  },
  {
   "cell_type": "markdown",
   "id": "a1cb0937",
   "metadata": {
    "papermill": {
     "duration": 0.010017,
     "end_time": "2024-12-29T20:15:05.021077",
     "exception": false,
     "start_time": "2024-12-29T20:15:05.011060",
     "status": "completed"
    },
    "tags": []
   },
   "source": [
    "# Neural Network\n"
   ]
  },
  {
   "cell_type": "code",
   "execution_count": 19,
   "id": "106394ac",
   "metadata": {
    "execution": {
     "iopub.execute_input": "2024-12-29T20:15:05.043655Z",
     "iopub.status.busy": "2024-12-29T20:15:05.043237Z",
     "iopub.status.idle": "2024-12-29T20:23:10.653813Z",
     "shell.execute_reply": "2024-12-29T20:23:10.652445Z"
    },
    "papermill": {
     "duration": 485.623832,
     "end_time": "2024-12-29T20:23:10.655431",
     "exception": false,
     "start_time": "2024-12-29T20:15:05.031599",
     "status": "completed"
    },
    "tags": []
   },
   "outputs": [
    {
     "name": "stderr",
     "output_type": "stream",
     "text": [
      "[I 2024-12-29 20:15:08,739] A new study created in memory with name: no-name-e210804f-7080-4c00-a132-7c9dc1bf4dd0\n",
      "[I 2024-12-29 20:15:21,498] Trial 0 finished with value: 0.4093333333333333 and parameters: {'hidden_layers': 1, 'neurons_per_layer': 78, 'optimizer': 'AdamW', 'lr': 0.00020668020556675735, 'dropout_rate': 0.31211826144991367, 'batch_size': 32, 'activation': 'ReLU'}. Best is trial 0 with value: 0.4093333333333333.\n",
      "[I 2024-12-29 20:15:27,547] Trial 1 finished with value: 0.412 and parameters: {'hidden_layers': 1, 'neurons_per_layer': 49, 'optimizer': 'RMSprop', 'lr': 0.002963436852704455, 'dropout_rate': 0.29888142406494433, 'batch_size': 64, 'activation': 'ReLU'}. Best is trial 1 with value: 0.412.\n",
      "[I 2024-12-29 20:15:33,107] Trial 2 finished with value: 0.37933333333333336 and parameters: {'hidden_layers': 2, 'neurons_per_layer': 123, 'optimizer': 'RMSprop', 'lr': 0.00011870322606870715, 'dropout_rate': 0.49647240963867945, 'batch_size': 128, 'activation': 'tanh'}. Best is trial 1 with value: 0.412.\n",
      "[I 2024-12-29 20:15:39,428] Trial 3 finished with value: 0.4082222222222222 and parameters: {'hidden_layers': 2, 'neurons_per_layer': 81, 'optimizer': 'AdamW', 'lr': 0.003643306931474679, 'dropout_rate': 0.4365246970582737, 'batch_size': 128, 'activation': 'tanh'}. Best is trial 1 with value: 0.412.\n",
      "[I 2024-12-29 20:15:49,583] Trial 4 finished with value: 0.40555555555555556 and parameters: {'hidden_layers': 3, 'neurons_per_layer': 44, 'optimizer': 'Adam', 'lr': 0.009092849772306278, 'dropout_rate': 0.40198724390485874, 'batch_size': 64, 'activation': 'tanh'}. Best is trial 1 with value: 0.412.\n",
      "[I 2024-12-29 20:15:56,038] Trial 5 finished with value: 0.4017777777777778 and parameters: {'hidden_layers': 1, 'neurons_per_layer': 36, 'optimizer': 'AdamW', 'lr': 0.0007458654793289569, 'dropout_rate': 0.4671142296415091, 'batch_size': 64, 'activation': 'tanh'}. Best is trial 1 with value: 0.412.\n",
      "[I 2024-12-29 20:16:02,207] Trial 6 finished with value: 0.3942222222222222 and parameters: {'hidden_layers': 2, 'neurons_per_layer': 127, 'optimizer': 'AdamW', 'lr': 0.0003040605046620017, 'dropout_rate': 0.36683725138337453, 'batch_size': 128, 'activation': 'tanh'}. Best is trial 1 with value: 0.412.\n",
      "[I 2024-12-29 20:16:13,753] Trial 7 finished with value: 0.4093333333333333 and parameters: {'hidden_layers': 1, 'neurons_per_layer': 96, 'optimizer': 'AdamW', 'lr': 0.0005451597150062891, 'dropout_rate': 0.4022441248836294, 'batch_size': 32, 'activation': 'ReLU'}. Best is trial 1 with value: 0.412.\n",
      "[I 2024-12-29 20:16:29,177] Trial 8 finished with value: 0.4146666666666667 and parameters: {'hidden_layers': 2, 'neurons_per_layer': 96, 'optimizer': 'AdamW', 'lr': 0.00519272731180795, 'dropout_rate': 0.3904991397442168, 'batch_size': 32, 'activation': 'ReLU'}. Best is trial 8 with value: 0.4146666666666667.\n",
      "[I 2024-12-29 20:16:37,011] Trial 9 finished with value: 0.41533333333333333 and parameters: {'hidden_layers': 2, 'neurons_per_layer': 94, 'optimizer': 'RMSprop', 'lr': 0.0017260337321759864, 'dropout_rate': 0.47370799897903904, 'batch_size': 64, 'activation': 'ReLU'}. Best is trial 9 with value: 0.41533333333333333.\n",
      "[I 2024-12-29 20:16:47,011] Trial 10 finished with value: 0.4148888888888889 and parameters: {'hidden_layers': 3, 'neurons_per_layer': 62, 'optimizer': 'RMSprop', 'lr': 0.0017363044159589911, 'dropout_rate': 0.20605145486045232, 'batch_size': 64, 'activation': 'ReLU'}. Best is trial 9 with value: 0.41533333333333333.\n",
      "[I 2024-12-29 20:16:56,609] Trial 11 finished with value: 0.416 and parameters: {'hidden_layers': 3, 'neurons_per_layer': 61, 'optimizer': 'RMSprop', 'lr': 0.0015982568778069213, 'dropout_rate': 0.20527470532927838, 'batch_size': 64, 'activation': 'ReLU'}. Best is trial 11 with value: 0.416.\n",
      "[I 2024-12-29 20:17:06,252] Trial 12 finished with value: 0.418 and parameters: {'hidden_layers': 3, 'neurons_per_layer': 60, 'optimizer': 'RMSprop', 'lr': 0.0014639251700499538, 'dropout_rate': 0.20848519730941506, 'batch_size': 64, 'activation': 'ReLU'}. Best is trial 12 with value: 0.418.\n",
      "[I 2024-12-29 20:17:16,042] Trial 13 finished with value: 0.4131111111111111 and parameters: {'hidden_layers': 3, 'neurons_per_layer': 58, 'optimizer': 'RMSprop', 'lr': 0.0011077557202314764, 'dropout_rate': 0.21283613606510907, 'batch_size': 64, 'activation': 'ReLU'}. Best is trial 12 with value: 0.418.\n",
      "[I 2024-12-29 20:17:26,514] Trial 14 finished with value: 0.41999999999999993 and parameters: {'hidden_layers': 3, 'neurons_per_layer': 51, 'optimizer': 'Adam', 'lr': 0.0019393536475794996, 'dropout_rate': 0.2569286019215294, 'batch_size': 64, 'activation': 'ReLU'}. Best is trial 14 with value: 0.41999999999999993.\n",
      "[I 2024-12-29 20:17:36,904] Trial 15 finished with value: 0.39866666666666667 and parameters: {'hidden_layers': 3, 'neurons_per_layer': 49, 'optimizer': 'Adam', 'lr': 0.00045219115624551626, 'dropout_rate': 0.2587909449735133, 'batch_size': 64, 'activation': 'ReLU'}. Best is trial 14 with value: 0.41999999999999993.\n",
      "[I 2024-12-29 20:17:47,182] Trial 16 finished with value: 0.4142222222222222 and parameters: {'hidden_layers': 3, 'neurons_per_layer': 34, 'optimizer': 'Adam', 'lr': 0.0031418679864908187, 'dropout_rate': 0.2555410166796225, 'batch_size': 64, 'activation': 'ReLU'}. Best is trial 14 with value: 0.41999999999999993.\n",
      "[I 2024-12-29 20:17:57,654] Trial 17 finished with value: 0.41888888888888887 and parameters: {'hidden_layers': 3, 'neurons_per_layer': 41, 'optimizer': 'Adam', 'lr': 0.0011282784447052725, 'dropout_rate': 0.252512238156233, 'batch_size': 64, 'activation': 'ReLU'}. Best is trial 14 with value: 0.41999999999999993.\n",
      "[I 2024-12-29 20:18:15,516] Trial 18 finished with value: 0.41733333333333333 and parameters: {'hidden_layers': 3, 'neurons_per_layer': 41, 'optimizer': 'Adam', 'lr': 0.0008908094232058827, 'dropout_rate': 0.3124961621758332, 'batch_size': 32, 'activation': 'ReLU'}. Best is trial 14 with value: 0.41999999999999993.\n",
      "[I 2024-12-29 20:18:22,241] Trial 19 finished with value: 0.40355555555555556 and parameters: {'hidden_layers': 3, 'neurons_per_layer': 39, 'optimizer': 'Adam', 'lr': 0.007476979810892252, 'dropout_rate': 0.25502696709344436, 'batch_size': 128, 'activation': 'ReLU'}. Best is trial 14 with value: 0.41999999999999993.\n",
      "[I 2024-12-29 20:18:30,581] Trial 20 finished with value: 0.4082222222222222 and parameters: {'hidden_layers': 2, 'neurons_per_layer': 50, 'optimizer': 'Adam', 'lr': 0.0024717766423024683, 'dropout_rate': 0.2791538204700928, 'batch_size': 64, 'activation': 'ReLU'}. Best is trial 14 with value: 0.41999999999999993.\n",
      "[I 2024-12-29 20:18:41,106] Trial 21 finished with value: 0.41933333333333334 and parameters: {'hidden_layers': 3, 'neurons_per_layer': 71, 'optimizer': 'Adam', 'lr': 0.001154083740537238, 'dropout_rate': 0.23467555986094207, 'batch_size': 64, 'activation': 'ReLU'}. Best is trial 14 with value: 0.41999999999999993.\n",
      "[I 2024-12-29 20:18:52,218] Trial 22 finished with value: 0.4071111111111111 and parameters: {'hidden_layers': 3, 'neurons_per_layer': 74, 'optimizer': 'Adam', 'lr': 0.0006279871850826766, 'dropout_rate': 0.2361058473266479, 'batch_size': 64, 'activation': 'ReLU'}. Best is trial 14 with value: 0.41999999999999993.\n",
      "[I 2024-12-29 20:19:02,355] Trial 23 finished with value: 0.4117777777777778 and parameters: {'hidden_layers': 3, 'neurons_per_layer': 52, 'optimizer': 'Adam', 'lr': 0.0011027420909090631, 'dropout_rate': 0.3362141399581343, 'batch_size': 64, 'activation': 'ReLU'}. Best is trial 14 with value: 0.41999999999999993.\n",
      "[I 2024-12-29 20:19:12,781] Trial 24 finished with value: 0.408 and parameters: {'hidden_layers': 3, 'neurons_per_layer': 68, 'optimizer': 'Adam', 'lr': 0.00042868555836878734, 'dropout_rate': 0.2822966658438255, 'batch_size': 64, 'activation': 'ReLU'}. Best is trial 14 with value: 0.41999999999999993.\n",
      "[I 2024-12-29 20:19:20,791] Trial 25 finished with value: 0.4177777777777778 and parameters: {'hidden_layers': 2, 'neurons_per_layer': 32, 'optimizer': 'Adam', 'lr': 0.0025145719059307204, 'dropout_rate': 0.2346129078798987, 'batch_size': 64, 'activation': 'ReLU'}. Best is trial 14 with value: 0.41999999999999993.\n",
      "[I 2024-12-29 20:19:31,601] Trial 26 finished with value: 0.4111111111111111 and parameters: {'hidden_layers': 3, 'neurons_per_layer': 54, 'optimizer': 'Adam', 'lr': 0.004976379785509905, 'dropout_rate': 0.23542629664378836, 'batch_size': 64, 'activation': 'tanh'}. Best is trial 14 with value: 0.41999999999999993.\n",
      "[I 2024-12-29 20:19:41,475] Trial 27 finished with value: 0.40955555555555556 and parameters: {'hidden_layers': 3, 'neurons_per_layer': 44, 'optimizer': 'Adam', 'lr': 0.0011661762756627284, 'dropout_rate': 0.33572606662417426, 'batch_size': 64, 'activation': 'ReLU'}. Best is trial 14 with value: 0.41999999999999993.\n",
      "[I 2024-12-29 20:19:46,546] Trial 28 finished with value: 0.4157777777777778 and parameters: {'hidden_layers': 2, 'neurons_per_layer': 44, 'optimizer': 'Adam', 'lr': 0.0019271282916742101, 'dropout_rate': 0.2772173003259552, 'batch_size': 128, 'activation': 'ReLU'}. Best is trial 14 with value: 0.41999999999999993.\n",
      "[I 2024-12-29 20:20:05,084] Trial 29 finished with value: 0.40555555555555556 and parameters: {'hidden_layers': 3, 'neurons_per_layer': 69, 'optimizer': 'Adam', 'lr': 0.0002893417303760426, 'dropout_rate': 0.31563378447655177, 'batch_size': 32, 'activation': 'ReLU'}. Best is trial 14 with value: 0.41999999999999993.\n",
      "[I 2024-12-29 20:20:23,820] Trial 30 finished with value: 0.40355555555555556 and parameters: {'hidden_layers': 3, 'neurons_per_layer': 83, 'optimizer': 'Adam', 'lr': 0.0045374292102040754, 'dropout_rate': 0.2923333939990146, 'batch_size': 32, 'activation': 'ReLU'}. Best is trial 14 with value: 0.41999999999999993.\n",
      "[I 2024-12-29 20:20:33,240] Trial 31 finished with value: 0.4168888888888889 and parameters: {'hidden_layers': 3, 'neurons_per_layer': 56, 'optimizer': 'RMSprop', 'lr': 0.0013270151485866662, 'dropout_rate': 0.22022915901010706, 'batch_size': 64, 'activation': 'ReLU'}. Best is trial 14 with value: 0.41999999999999993.\n",
      "[I 2024-12-29 20:20:42,590] Trial 32 finished with value: 0.4026666666666667 and parameters: {'hidden_layers': 3, 'neurons_per_layer': 67, 'optimizer': 'RMSprop', 'lr': 0.0009019403882260834, 'dropout_rate': 0.2603210619921589, 'batch_size': 64, 'activation': 'ReLU'}. Best is trial 14 with value: 0.41999999999999993.\n",
      "[I 2024-12-29 20:20:51,681] Trial 33 finished with value: 0.41244444444444445 and parameters: {'hidden_layers': 3, 'neurons_per_layer': 47, 'optimizer': 'RMSprop', 'lr': 0.0021676213184130596, 'dropout_rate': 0.2276769983204719, 'batch_size': 64, 'activation': 'ReLU'}. Best is trial 14 with value: 0.41999999999999993.\n",
      "[I 2024-12-29 20:21:01,625] Trial 34 finished with value: 0.40599999999999997 and parameters: {'hidden_layers': 3, 'neurons_per_layer': 38, 'optimizer': 'Adam', 'lr': 0.0013838258482178976, 'dropout_rate': 0.246135457881414, 'batch_size': 64, 'activation': 'ReLU'}. Best is trial 14 with value: 0.41999999999999993.\n",
      "[I 2024-12-29 20:21:09,437] Trial 35 finished with value: 0.39266666666666666 and parameters: {'hidden_layers': 2, 'neurons_per_layer': 74, 'optimizer': 'RMSprop', 'lr': 0.0001087493895782019, 'dropout_rate': 0.20021219511385271, 'batch_size': 64, 'activation': 'tanh'}. Best is trial 14 with value: 0.41999999999999993.\n",
      "[I 2024-12-29 20:21:15,928] Trial 36 finished with value: 0.40622222222222226 and parameters: {'hidden_layers': 3, 'neurons_per_layer': 59, 'optimizer': 'Adam', 'lr': 0.0007812977180316102, 'dropout_rate': 0.26946089907699594, 'batch_size': 128, 'activation': 'ReLU'}. Best is trial 14 with value: 0.41999999999999993.\n",
      "[I 2024-12-29 20:21:22,639] Trial 37 finished with value: 0.39022222222222225 and parameters: {'hidden_layers': 1, 'neurons_per_layer': 54, 'optimizer': 'AdamW', 'lr': 0.00016069902925028146, 'dropout_rate': 0.2988604266383418, 'batch_size': 64, 'activation': 'tanh'}. Best is trial 14 with value: 0.41999999999999993.\n",
      "[I 2024-12-29 20:21:30,899] Trial 38 finished with value: 0.41 and parameters: {'hidden_layers': 2, 'neurons_per_layer': 46, 'optimizer': 'Adam', 'lr': 0.002973175482088782, 'dropout_rate': 0.22480829911000963, 'batch_size': 64, 'activation': 'ReLU'}. Best is trial 14 with value: 0.41999999999999993.\n",
      "[I 2024-12-29 20:21:36,891] Trial 39 finished with value: 0.4126666666666667 and parameters: {'hidden_layers': 3, 'neurons_per_layer': 41, 'optimizer': 'RMSprop', 'lr': 0.004069184716778401, 'dropout_rate': 0.2466743329361481, 'batch_size': 128, 'activation': 'tanh'}. Best is trial 14 with value: 0.41999999999999993.\n",
      "[I 2024-12-29 20:21:47,835] Trial 40 finished with value: 0.4126666666666667 and parameters: {'hidden_layers': 3, 'neurons_per_layer': 87, 'optimizer': 'AdamW', 'lr': 0.0005602772800395939, 'dropout_rate': 0.3776235964091456, 'batch_size': 64, 'activation': 'ReLU'}. Best is trial 14 with value: 0.41999999999999993.\n",
      "[I 2024-12-29 20:21:55,853] Trial 41 finished with value: 0.42044444444444445 and parameters: {'hidden_layers': 2, 'neurons_per_layer': 35, 'optimizer': 'Adam', 'lr': 0.0020909742205141467, 'dropout_rate': 0.23628150726565322, 'batch_size': 64, 'activation': 'ReLU'}. Best is trial 41 with value: 0.42044444444444445.\n",
      "[I 2024-12-29 20:22:04,580] Trial 42 finished with value: 0.4106666666666666 and parameters: {'hidden_layers': 2, 'neurons_per_layer': 35, 'optimizer': 'Adam', 'lr': 0.0014536978644350265, 'dropout_rate': 0.21974974912927425, 'batch_size': 64, 'activation': 'ReLU'}. Best is trial 41 with value: 0.42044444444444445.\n",
      "[I 2024-12-29 20:22:12,779] Trial 43 finished with value: 0.4086666666666667 and parameters: {'hidden_layers': 2, 'neurons_per_layer': 33, 'optimizer': 'Adam', 'lr': 0.002246180581497161, 'dropout_rate': 0.27018623381056456, 'batch_size': 64, 'activation': 'ReLU'}. Best is trial 41 with value: 0.42044444444444445.\n",
      "[I 2024-12-29 20:22:21,280] Trial 44 finished with value: 0.41155555555555556 and parameters: {'hidden_layers': 2, 'neurons_per_layer': 65, 'optimizer': 'Adam', 'lr': 0.000720286769015678, 'dropout_rate': 0.24311614398786904, 'batch_size': 64, 'activation': 'ReLU'}. Best is trial 41 with value: 0.42044444444444445.\n",
      "[I 2024-12-29 20:22:27,747] Trial 45 finished with value: 0.4177777777777778 and parameters: {'hidden_layers': 1, 'neurons_per_layer': 37, 'optimizer': 'AdamW', 'lr': 0.0017594900053160309, 'dropout_rate': 0.20042182304351538, 'batch_size': 64, 'activation': 'ReLU'}. Best is trial 41 with value: 0.42044444444444445.\n",
      "[I 2024-12-29 20:22:41,444] Trial 46 finished with value: 0.4157777777777778 and parameters: {'hidden_layers': 2, 'neurons_per_layer': 104, 'optimizer': 'RMSprop', 'lr': 0.0013166516658352958, 'dropout_rate': 0.425862802473387, 'batch_size': 32, 'activation': 'ReLU'}. Best is trial 41 with value: 0.42044444444444445.\n",
      "[I 2024-12-29 20:22:49,872] Trial 47 finished with value: 0.41155555555555556 and parameters: {'hidden_layers': 2, 'neurons_per_layer': 42, 'optimizer': 'Adam', 'lr': 0.0009881710081622056, 'dropout_rate': 0.21440201449537621, 'batch_size': 64, 'activation': 'tanh'}. Best is trial 41 with value: 0.42044444444444445.\n",
      "[I 2024-12-29 20:23:00,481] Trial 48 finished with value: 0.4108888888888889 and parameters: {'hidden_layers': 3, 'neurons_per_layer': 62, 'optimizer': 'Adam', 'lr': 0.003459729872534446, 'dropout_rate': 0.28829873970417486, 'batch_size': 64, 'activation': 'ReLU'}. Best is trial 41 with value: 0.42044444444444445.\n",
      "[I 2024-12-29 20:23:10,647] Trial 49 finished with value: 0.41222222222222216 and parameters: {'hidden_layers': 3, 'neurons_per_layer': 74, 'optimizer': 'RMSprop', 'lr': 0.0026978735133205167, 'dropout_rate': 0.252635242871704, 'batch_size': 64, 'activation': 'ReLU'}. Best is trial 41 with value: 0.42044444444444445.\n"
     ]
    },
    {
     "name": "stdout",
     "output_type": "stream",
     "text": [
      "Best Parameters: {'hidden_layers': 2, 'neurons_per_layer': 35, 'optimizer': 'Adam', 'lr': 0.0020909742205141467, 'dropout_rate': 0.23628150726565322, 'batch_size': 64, 'activation': 'ReLU'}\n",
      "Best F1 Score: 0.42044444444444445\n"
     ]
    }
   ],
   "source": [
    "import torch\n",
    "import torch.nn as nn\n",
    "import torch.optim as optim\n",
    "from sklearn.model_selection import train_test_split\n",
    "from sklearn.metrics import f1_score\n",
    "import optuna\n",
    "\n",
    "# Define the objective function for Optuna\n",
    "def objective(trial):\n",
    "    # Hyperparameters\n",
    "    hidden_layers = trial.suggest_int('hidden_layers', 1, 3)\n",
    "    neurons = trial.suggest_int('neurons_per_layer', 32, 128, log=True)\n",
    "    optimizer_name = trial.suggest_categorical('optimizer', ['Adam', 'RMSprop', 'AdamW'])\n",
    "    lr = trial.suggest_float('lr', 1e-4, 1e-2, log=True)\n",
    "    dropout_rate = trial.suggest_float('dropout_rate', 0.2, 0.5)\n",
    "    batch_size = trial.suggest_categorical('batch_size', [32, 64, 128])\n",
    "    activation_function = trial.suggest_categorical('activation', ['ReLU', 'tanh'])\n",
    "\n",
    "    # Prepare data\n",
    "    X = train_df.drop(columns=['id', 'target'])\n",
    "    y = train_df['target']\n",
    "    X_train, X_val, y_train, y_val = train_test_split(X, y, test_size=0.2, stratify=y, random_state=42)\n",
    "\n",
    "    X_train = X_train.astype({col: 'int' for col in X_train.select_dtypes('bool').columns})\n",
    "    X_val = X_val.astype({col: 'int' for col in X_val.select_dtypes('bool').columns})\n",
    "\n",
    "    X_train_tensor = torch.tensor(X_train.values, dtype=torch.float32)\n",
    "    y_train_tensor = torch.tensor(y_train.values, dtype=torch.long)\n",
    "    X_val_tensor = torch.tensor(X_val.values, dtype=torch.float32)\n",
    "    y_val_tensor = torch.tensor(y_val.values, dtype=torch.long)\n",
    "\n",
    "    train_dataset = torch.utils.data.TensorDataset(X_train_tensor, y_train_tensor)\n",
    "    val_dataset = torch.utils.data.TensorDataset(X_val_tensor, y_val_tensor)\n",
    "\n",
    "    train_loader = torch.utils.data.DataLoader(train_dataset, batch_size=batch_size, shuffle=True)\n",
    "    val_loader = torch.utils.data.DataLoader(val_dataset, batch_size=batch_size, shuffle=False)\n",
    "\n",
    "    # Define model\n",
    "    class CustomNeuralNetwork(nn.Module):\n",
    "        def __init__(self, input_size, num_classes, hidden_layers, neurons, dropout_rate, activation_function):\n",
    "            super(CustomNeuralNetwork, self).__init__()\n",
    "            layers = []\n",
    "            for _ in range(hidden_layers):\n",
    "                layers.append(nn.Linear(input_size, neurons))\n",
    "                layers.append(nn.BatchNorm1d(neurons))\n",
    "                if activation_function == 'ReLU':\n",
    "                    layers.append(nn.ReLU())\n",
    "                elif activation_function == 'tanh':\n",
    "                    layers.append(nn.Tanh())\n",
    "                layers.append(nn.Dropout(dropout_rate))\n",
    "                input_size = neurons\n",
    "            layers.append(nn.Linear(input_size, num_classes))\n",
    "            self.fc = nn.Sequential(*layers)\n",
    "\n",
    "        def forward(self, x):\n",
    "            return self.fc(x)\n",
    "\n",
    "    model = CustomNeuralNetwork(\n",
    "        input_size=X_train.shape[1],\n",
    "        num_classes=len(y.unique()),\n",
    "        hidden_layers=hidden_layers,\n",
    "        neurons=neurons,\n",
    "        dropout_rate=dropout_rate,\n",
    "        activation_function=activation_function\n",
    "    )\n",
    "    model.to(torch.device('cuda' if torch.cuda.is_available() else 'cpu'))\n",
    "\n",
    "    # Optimizer and scheduler\n",
    "    if optimizer_name == 'Adam':\n",
    "        optimizer = optim.Adam(model.parameters(), lr=lr)\n",
    "    elif optimizer_name == 'RMSprop':\n",
    "        optimizer = optim.RMSprop(model.parameters(), lr=lr)\n",
    "    elif optimizer_name == 'AdamW':\n",
    "        optimizer = optim.AdamW(model.parameters(), lr=lr)\n",
    "\n",
    "    criterion = nn.CrossEntropyLoss()\n",
    "    scheduler = optim.lr_scheduler.StepLR(optimizer, step_size=5, gamma=0.7)\n",
    "\n",
    "    # Training loop\n",
    "    epochs = 10\n",
    "    for epoch in range(epochs):\n",
    "        model.train()\n",
    "        for batch_X, batch_y in train_loader:\n",
    "            optimizer.zero_grad()\n",
    "            outputs = model(batch_X)\n",
    "            loss = criterion(outputs, batch_y)\n",
    "            loss.backward()\n",
    "            optimizer.step()\n",
    "        scheduler.step()\n",
    "\n",
    "    # Validation phase\n",
    "    model.eval()\n",
    "    val_predictions = []\n",
    "    val_targets = []\n",
    "    with torch.no_grad():\n",
    "        for val_X, val_y in val_loader:\n",
    "            outputs = model(val_X)\n",
    "            _, preds = torch.max(outputs, 1)\n",
    "            val_predictions.extend(preds.cpu().numpy())\n",
    "            val_targets.extend(val_y.cpu().numpy())\n",
    "\n",
    "    # Calculate F1 score\n",
    "    val_f1 = f1_score(val_targets, val_predictions, average='micro')\n",
    "    return val_f1\n",
    "\n",
    "# Run Optuna study\n",
    "study = optuna.create_study(direction='maximize')\n",
    "study.optimize(objective, n_trials=50)  \n",
    "# Print best parameters and F1 score\n",
    "print(\"Best Parameters:\", study.best_params)\n",
    "print(\"Best F1 Score:\", study.best_value)\n"
   ]
  },
  {
   "cell_type": "markdown",
   "id": "70b0f3b3",
   "metadata": {
    "papermill": {
     "duration": 0.012864,
     "end_time": "2024-12-29T20:23:10.681846",
     "exception": false,
     "start_time": "2024-12-29T20:23:10.668982",
     "status": "completed"
    },
    "tags": []
   },
   "source": [
    "* Objective function: Defines the structure of the neural network and hyperparameters to optimize.Splits data into training and validation sets. Converts the data to PyTorch tensors and creates DataLoader objects.\n",
    "* Model: Constructs a flexible neural network with the specified number of layers and neurons. Uses Batch Normalization, ReLU activation, and Dropout (0.3) to improve generalization.\n",
    "* Trains the model for 10 epochs using the selected optimizer and learning rate.\n",
    "* Uses cross-entropy loss as the criterion for classification.\n",
    "* Implements learning rate scheduling with StepLR.\n",
    "\n",
    "* 20 trials, testing various combinations of hyperparameters to maximize the F1 score.\n"
   ]
  },
  {
   "cell_type": "code",
   "execution_count": 20,
   "id": "961bdc8e",
   "metadata": {
    "execution": {
     "iopub.execute_input": "2024-12-29T20:23:10.709740Z",
     "iopub.status.busy": "2024-12-29T20:23:10.709128Z",
     "iopub.status.idle": "2024-12-29T20:23:12.487889Z",
     "shell.execute_reply": "2024-12-29T20:23:12.486814Z"
    },
    "papermill": {
     "duration": 1.794701,
     "end_time": "2024-12-29T20:23:12.489654",
     "exception": false,
     "start_time": "2024-12-29T20:23:10.694953",
     "status": "completed"
    },
    "tags": []
   },
   "outputs": [
    {
     "data": {
      "image/png": "[encoded data removed]",
      "text/plain": [
       "<Figure size 1000x600 with 1 Axes>"
      ]
     },
     "metadata": {},
     "output_type": "display_data"
    },
    {
     "name": "stderr",
     "output_type": "stream",
     "text": [
      "<ipython-input-20-22029cfa0ed5>:15: ExperimentalWarning: plot_param_importances is experimental (supported from v2.2.0). The interface can change in the future.\n",
      "  optuna_viz.plot_param_importances(study)\n"
     ]
    },
    {
     "data": {
      "text/plain": [
       "<Figure size 1000x600 with 0 Axes>"
      ]
     },
     "metadata": {},
     "output_type": "display_data"
    },
    {
     "data": {
      "image/png": "[encoded data removed]",
      "text/plain": [
       "<Figure size 640x480 with 1 Axes>"
      ]
     },
     "metadata": {},
     "output_type": "display_data"
    },
    {
     "name": "stderr",
     "output_type": "stream",
     "text": [
      "<ipython-input-20-22029cfa0ed5>:21: ExperimentalWarning: plot_optimization_history is experimental (supported from v2.2.0). The interface can change in the future.\n",
      "  optuna_viz.plot_optimization_history(study)\n"
     ]
    },
    {
     "data": {
      "text/plain": [
       "<Figure size 1000x600 with 0 Axes>"
      ]
     },
     "metadata": {},
     "output_type": "display_data"
    },
    {
     "data": {
      "image/png": "[encoded data removed]",
      "text/plain": [
       "<Figure size 640x480 with 1 Axes>"
      ]
     },
     "metadata": {},
     "output_type": "display_data"
    }
   ],
   "source": [
    "import optuna.visualization.matplotlib as optuna_viz\n",
    "\n",
    "# Plot the F1 score progression across trials\n",
    "f1_scores = [trial.value for trial in study.trials]\n",
    "plt.figure(figsize=(10, 6))\n",
    "plt.plot(range(len(f1_scores)), f1_scores, marker='o', linestyle='-', color='green')\n",
    "plt.title(\"F1 Score Progression Across Trials\")\n",
    "plt.xlabel(\"Trial Number\")\n",
    "plt.ylabel(\"F1 Score\")\n",
    "plt.grid(True)\n",
    "plt.show()\n",
    "\n",
    "# Plot hyperparameter importance\n",
    "plt.figure(figsize=(10, 6))\n",
    "optuna_viz.plot_param_importances(study)\n",
    "plt.show()\n",
    "\n",
    "\n",
    "# Visualize optimization history\n",
    "plt.figure(figsize=(10, 6))\n",
    "optuna_viz.plot_optimization_history(study)\n",
    "plt.title(\"Optimization History\")\n",
    "plt.show()\n"
   ]
  },
  {
   "cell_type": "markdown",
   "id": "f733a373",
   "metadata": {
    "papermill": {
     "duration": 0.016098,
     "end_time": "2024-12-29T20:23:12.523061",
     "exception": false,
     "start_time": "2024-12-29T20:23:12.506963",
     "status": "completed"
    },
    "tags": []
   },
   "source": [
    "* how the F1 score evolves over the trials, helping identify trends and convergence.\n",
    "* the relative importance of each hyperparameter based on its impact on the objective metric (F1 score).\n",
    "* detailed view of the progression of the optimization process, showing the best value achieved at each trial.\n"
   ]
  },
  {
   "cell_type": "code",
   "execution_count": 21,
   "id": "ac2d6282",
   "metadata": {
    "execution": {
     "iopub.execute_input": "2024-12-29T20:23:12.557427Z",
     "iopub.status.busy": "2024-12-29T20:23:12.557060Z",
     "iopub.status.idle": "2024-12-29T20:24:35.645870Z",
     "shell.execute_reply": "2024-12-29T20:24:35.644610Z"
    },
    "papermill": {
     "duration": 83.108092,
     "end_time": "2024-12-29T20:24:35.647513",
     "exception": false,
     "start_time": "2024-12-29T20:23:12.539421",
     "status": "completed"
    },
    "tags": []
   },
   "outputs": [
    {
     "name": "stdout",
     "output_type": "stream",
     "text": [
      "Epoch 1/60, Loss: 702.5482, F1 Score: 0.3301\n",
      "Epoch 2/60, Loss: 655.4168, F1 Score: 0.3791\n",
      "Epoch 3/60, Loss: 647.4126, F1 Score: 0.3895\n",
      "Epoch 4/60, Loss: 642.8796, F1 Score: 0.3953\n",
      "Epoch 5/60, Loss: 639.8258, F1 Score: 0.3992\n",
      "Epoch 6/60, Loss: 637.9975, F1 Score: 0.3988\n",
      "Epoch 7/60, Loss: 635.9306, F1 Score: 0.4000\n",
      "Epoch 8/60, Loss: 635.2153, F1 Score: 0.4045\n",
      "Epoch 9/60, Loss: 633.9128, F1 Score: 0.4073\n",
      "Epoch 10/60, Loss: 632.9845, F1 Score: 0.4080\n",
      "Epoch 11/60, Loss: 633.9027, F1 Score: 0.4053\n",
      "Epoch 12/60, Loss: 632.6238, F1 Score: 0.4039\n",
      "Epoch 13/60, Loss: 631.3997, F1 Score: 0.4047\n",
      "Epoch 14/60, Loss: 631.5802, F1 Score: 0.4068\n",
      "Epoch 15/60, Loss: 631.2114, F1 Score: 0.4132\n",
      "Epoch 16/60, Loss: 631.1631, F1 Score: 0.4056\n",
      "Epoch 17/60, Loss: 629.8728, F1 Score: 0.4076\n",
      "Epoch 18/60, Loss: 631.1291, F1 Score: 0.4089\n",
      "Epoch 19/60, Loss: 630.5056, F1 Score: 0.4072\n",
      "Epoch 20/60, Loss: 630.2934, F1 Score: 0.4102\n",
      "Epoch 21/60, Loss: 628.8429, F1 Score: 0.4094\n",
      "Epoch 22/60, Loss: 628.4350, F1 Score: 0.4113\n",
      "Epoch 23/60, Loss: 627.8777, F1 Score: 0.4125\n",
      "Epoch 24/60, Loss: 628.3807, F1 Score: 0.4122\n",
      "Epoch 25/60, Loss: 627.5364, F1 Score: 0.4142\n",
      "Epoch 26/60, Loss: 628.6593, F1 Score: 0.4124\n",
      "Epoch 27/60, Loss: 627.6249, F1 Score: 0.4126\n",
      "Epoch 28/60, Loss: 626.4690, F1 Score: 0.4146\n",
      "Epoch 29/60, Loss: 627.8570, F1 Score: 0.4117\n",
      "Epoch 30/60, Loss: 628.9034, F1 Score: 0.4118\n",
      "Epoch 31/60, Loss: 627.0946, F1 Score: 0.4143\n",
      "Epoch 32/60, Loss: 626.5436, F1 Score: 0.4122\n",
      "Epoch 33/60, Loss: 626.4212, F1 Score: 0.4153\n",
      "Epoch 34/60, Loss: 627.3552, F1 Score: 0.4132\n",
      "Epoch 35/60, Loss: 626.3213, F1 Score: 0.4117\n",
      "Epoch 36/60, Loss: 627.1708, F1 Score: 0.4109\n",
      "Epoch 37/60, Loss: 624.9058, F1 Score: 0.4134\n",
      "Epoch 38/60, Loss: 626.4908, F1 Score: 0.4135\n",
      "Epoch 39/60, Loss: 625.3492, F1 Score: 0.4160\n",
      "Epoch 40/60, Loss: 626.7374, F1 Score: 0.4147\n",
      "Epoch 41/60, Loss: 625.6448, F1 Score: 0.4156\n",
      "Epoch 42/60, Loss: 626.0196, F1 Score: 0.4176\n",
      "Epoch 43/60, Loss: 625.2905, F1 Score: 0.4166\n",
      "Epoch 44/60, Loss: 624.6754, F1 Score: 0.4179\n",
      "Epoch 45/60, Loss: 626.0876, F1 Score: 0.4097\n",
      "Epoch 46/60, Loss: 625.8156, F1 Score: 0.4179\n",
      "Epoch 47/60, Loss: 623.0430, F1 Score: 0.4206\n",
      "Epoch 48/60, Loss: 625.8806, F1 Score: 0.4141\n",
      "Epoch 49/60, Loss: 623.9283, F1 Score: 0.4143\n",
      "Epoch 50/60, Loss: 625.1890, F1 Score: 0.4153\n",
      "Epoch 51/60, Loss: 626.0775, F1 Score: 0.4139\n",
      "Epoch 52/60, Loss: 623.9253, F1 Score: 0.4143\n",
      "Epoch 53/60, Loss: 626.2214, F1 Score: 0.4133\n",
      "Epoch 54/60, Loss: 623.1680, F1 Score: 0.4169\n",
      "Epoch 55/60, Loss: 624.4404, F1 Score: 0.4186\n",
      "Epoch 56/60, Loss: 624.8120, F1 Score: 0.4125\n",
      "Epoch 57/60, Loss: 624.7612, F1 Score: 0.4155\n",
      "Epoch 58/60, Loss: 623.3604, F1 Score: 0.4187\n",
      "Epoch 59/60, Loss: 625.3075, F1 Score: 0.4125\n",
      "Epoch 60/60, Loss: 623.9816, F1 Score: 0.4129\n",
      "Final Model F1 Score on Train Data: 0.4400\n"
     ]
    }
   ],
   "source": [
    "X_train_resampled = X_train_resampled.astype(float)\n",
    "\n",
    "# Use best parameters to train final model\n",
    "best_params = study.best_params\n",
    "\n",
    "# Prepare final data\n",
    "X = train_df.drop(columns=['id', 'target'])\n",
    "y = train_df['target']\n",
    "X_train_tensor = torch.tensor(X_train_resampled.values, dtype=torch.float32)\n",
    "y_train_tensor = torch.tensor(y_train_resampled.values, dtype=torch.long)\n",
    "\n",
    "final_dataset = torch.utils.data.TensorDataset(X_train_tensor, y_train_tensor)\n",
    "final_loader = torch.utils.data.DataLoader(final_dataset, batch_size=best_params['batch_size'], shuffle=True)\n",
    "\n",
    "# Define final model\n",
    "class FinalNeuralNetwork(nn.Module):\n",
    "    def __init__(self, input_size, num_classes, hidden_layers, neurons, dropout_rate, activation_function):\n",
    "        super(FinalNeuralNetwork, self).__init__()\n",
    "        layers = []\n",
    "        for _ in range(hidden_layers):\n",
    "            layers.append(nn.Linear(input_size, neurons))\n",
    "            layers.append(nn.BatchNorm1d(neurons))\n",
    "            if activation_function == 'ReLU':\n",
    "                layers.append(nn.ReLU())\n",
    "            elif activation_function == 'tanh':\n",
    "                layers.append(nn.Tanh())\n",
    "            layers.append(nn.Dropout(dropout_rate))\n",
    "            input_size = neurons\n",
    "        layers.append(nn.Linear(input_size, num_classes))\n",
    "        self.fc = nn.Sequential(*layers)\n",
    "\n",
    "    def forward(self, x):\n",
    "        return self.fc(x)\n",
    "\n",
    "final_model = FinalNeuralNetwork(\n",
    "    input_size=X.shape[1],\n",
    "    num_classes=len(y.unique()),\n",
    "    hidden_layers=best_params['hidden_layers'],\n",
    "    neurons=best_params['neurons_per_layer'],\n",
    "    dropout_rate=best_params['dropout_rate'],\n",
    "    activation_function=best_params['activation']\n",
    ")\n",
    "final_model.to(torch.device('cuda' if torch.cuda.is_available() else 'cpu'))\n",
    "\n",
    "# Optimizer and criterion\n",
    "if best_params['optimizer'] == 'Adam':\n",
    "    final_optimizer = optim.Adam(final_model.parameters(), lr=best_params['lr'])\n",
    "elif best_params['optimizer'] == 'RMSprop':\n",
    "    final_optimizer = optim.RMSprop(final_model.parameters(), lr=best_params['lr'])\n",
    "elif best_params['optimizer'] == 'AdamW':\n",
    "    final_optimizer = optim.AdamW(final_model.parameters(), lr=best_params['lr'])\n",
    "\n",
    "final_criterion = nn.CrossEntropyLoss()\n",
    "\n",
    "# Training final model\n",
    "epochs = 60\n",
    "for epoch in range(epochs):\n",
    "    final_model.train()\n",
    "    epoch_loss = 0\n",
    "    train_predictions = []\n",
    "    train_targets = []\n",
    "\n",
    "    for batch_X, batch_y in final_loader:\n",
    "        final_optimizer.zero_grad()\n",
    "        outputs = final_model(batch_X)\n",
    "        loss = final_criterion(outputs, batch_y)\n",
    "        loss.backward()\n",
    "        final_optimizer.step()\n",
    "        epoch_loss += loss.item()\n",
    "\n",
    "        # Collect predictions for F1 score\n",
    "        _, preds = torch.max(outputs, 1)\n",
    "        train_predictions.extend(preds.cpu().numpy())\n",
    "        train_targets.extend(batch_y.cpu().numpy())\n",
    "\n",
    "    # Calculate F1 score for this epoch\n",
    "    f1_train = f1_score(train_targets, train_predictions, average='micro')\n",
    "    print(f\"Epoch {epoch + 1}/{epochs}, Loss: {epoch_loss:.4f}, F1 Score: {f1_train:.4f}\")\n",
    "\n",
    "# Evaluate model on train data for F1 score\n",
    "final_model.eval()\n",
    "train_predictions = []\n",
    "train_targets = []\n",
    "with torch.no_grad():\n",
    "    for batch_X, batch_y in final_loader:\n",
    "        outputs = final_model(batch_X)\n",
    "        _, preds = torch.max(outputs, 1)\n",
    "        train_predictions.extend(preds.cpu().numpy())\n",
    "        train_targets.extend(batch_y.cpu().numpy())\n",
    "\n",
    "f1_train = f1_score(train_targets, train_predictions, average='micro')\n",
    "print(f\"Final Model F1 Score on Train Data: {f1_train:.4f}\")\n"
   ]
  },
  {
   "cell_type": "markdown",
   "id": "20944eb5",
   "metadata": {
    "papermill": {
     "duration": 0.018881,
     "end_time": "2024-12-29T20:24:35.686345",
     "exception": false,
     "start_time": "2024-12-29T20:24:35.667464",
     "status": "completed"
    },
    "tags": []
   },
   "source": [
    "* The decreasing loss suggests that the model is converging and fitting the training data well.\n",
    "* The improvement in F1 score demonstrates better classification performance over time."
   ]
  },
  {
   "cell_type": "code",
   "execution_count": 22,
   "id": "9102432b",
   "metadata": {
    "execution": {
     "iopub.execute_input": "2024-12-29T20:24:35.725691Z",
     "iopub.status.busy": "2024-12-29T20:24:35.725326Z",
     "iopub.status.idle": "2024-12-29T20:24:35.770232Z",
     "shell.execute_reply": "2024-12-29T20:24:35.769018Z"
    },
    "papermill": {
     "duration": 0.066542,
     "end_time": "2024-12-29T20:24:35.772035",
     "exception": false,
     "start_time": "2024-12-29T20:24:35.705493",
     "status": "completed"
    },
    "tags": []
   },
   "outputs": [
    {
     "name": "stdout",
     "output_type": "stream",
     "text": [
      "Submission file created: submission.csv\n"
     ]
    }
   ],
   "source": [
    "# Prepare test data\n",
    "# Drop the 'id' column from the test dataset to match the training feature structure\n",
    "X_test = test_df.drop(columns=['id'])\n",
    "\n",
    "# Ensure test data has the same columns as training data, filling missing ones with 0\n",
    "X_train_columns = train_df.drop(columns=['id', 'target']).columns  # Get feature columns from training data\n",
    "X_test = X_test.reindex(columns=X_train_columns, fill_value=0)  # Align test data with training feature set\n",
    "\n",
    "# Convert test data to PyTorch tensor\n",
    "X_test_tensor = torch.tensor(X_test.values, dtype=torch.float32)\n",
    "\n",
    "# Make predictions on test data using the trained model\n",
    "final_model.eval()  # Set model to evaluation mode\n",
    "predictions = []\n",
    "with torch.no_grad():  # Disable gradient computation\n",
    "    outputs = final_model(X_test_tensor)  # Forward pass on test data\n",
    "    _, preds = torch.max(outputs, 1)  # Get predicted class for each data point\n",
    "    predictions.extend(preds.cpu().numpy())  # Store predictions as a numpy array\n",
    "\n",
    "# Prepare the submission file\n",
    "submission = pd.DataFrame({\n",
    "    'id': test_df['id'],  # Include the 'id' column from the test dataset\n",
    "    'target': predictions  # Add predictions as the 'target' column\n",
    "})\n",
    "\n",
    "# Save the submission file as a CSV\n",
    "submission.to_csv('submission.csv', index=False)\n",
    "print(\"Submission file created: submission.csv\")\n"
   ]
  }
 ],
 "metadata": {
  "kaggle": {
   "accelerator": "none",
   "dataSources": [
    {
     "databundleVersionId": 10507076,
     "sourceId": 90401,
     "sourceType": "competition"
    }
   ],
   "dockerImageVersionId": 30822,
   "isGpuEnabled": false,
   "isInternetEnabled": true,
   "language": "python",
   "sourceType": "notebook"
  },
  "kernelspec": {
   "display_name": "Python 3",
   "language": "python",
   "name": "python3"
  },
  "language_info": {
   "codemirror_mode": {
    "name": "ipython",
    "version": 3
   },
   "file_extension": ".py",
   "mimetype": "text/x-python",
   "name": "python",
   "nbconvert_exporter": "python",
   "pygments_lexer": "ipython3",
   "version": "3.10.12"
  },
  "papermill": {
   "default_parameters": {},
   "duration": 587.904103,
   "end_time": "2024-12-29T20:24:38.130365",
   "environment_variables": {},
   "exception": null,
   "input_path": "__notebook__.ipynb",
   "output_path": "__notebook__.ipynb",
   "parameters": {},
   "start_time": "2024-12-29T20:14:50.226262",
   "version": "2.6.0"
  }
 },
 "nbformat": 4,
 "nbformat_minor": 5
}
